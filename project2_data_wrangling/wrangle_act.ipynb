{
 "cells": [
  {
   "cell_type": "markdown",
   "metadata": {
    "extensions": {
     "jupyter_dashboards": {
      "version": 1,
      "views": {
       "grid_default": {
        "col": 0,
        "height": 4,
        "hidden": false,
        "row": 0,
        "width": 4
       },
       "report_default": {
        "hidden": false
       }
      }
     }
    }
   },
   "source": [
    "# Project: Wrangling and Analyze Data"
   ]
  },
  {
   "cell_type": "markdown",
   "metadata": {},
   "source": [
    "## Table of content\n",
    "\n",
    "1. [Data Gathering](#data-gathering) <br>\n",
    "    1.1 [Directly download the WeRateDogs Twitter archive data (twitter_archive_enhanced.csv)](#1-directly-download-the-weratedogs-twitter-archive-data-twitter_archive_enhancedcsv) <br>\n",
    "    1.2 [Use the Requests library to download the tweet image prediction (image_predictions.tsv)](#2-use-the-requests-library-to-download-the-tweet-image-prediction-image_predictionstsv) <br>\n",
    "    1.3 [Use the Tweepy library to query additional data via the Twitter API (**tweet_json.txt**)](#3-use-the-tweepy-library-to-query-additional-data-via-the-twitter-api-tweet_jsontxt)\n",
    "2. [Assessing Data](#assessing-data) <br>\n",
    "    2.1 [Quality Issues](#quality-issues) <br>\n",
    "    2.2 [Tidiness Issues](#tidiness-issues)\n",
    "3. [Cleaning Data](#cleaning-data) <br>\n",
    "        [Issue #1](#issue-1-some-cells-in-the-expended_urls-column-have-duplicated-image-url-and-unterminated-images-urls-and-some-links-lead-to-video-and-external-webpages) <br>\n",
    "        [Issue #2](#issue-2-there-are-cells-in-the-expanded_urls-column-with-null-values) <br>\n",
    "        [Issue #3](#3-use-the-tweepy-library-to-query-additional-data-via-the-twitter-api-tweet_jsontxt) <br>\n",
    "        [Issue #4](#issue-4-the-timestamp-column-has-unnecessary-characters-0000) <br>\n",
    "        [Issue #5](#issue-5-the-data-type-of-the-tweet_id-column-is-int-which-is-supposed-to-be-object) <br>\n",
    "        [Issue #6](#issue-6-the-data-type-of-the-timestamp-column-is-supposed-to-be-datetime-not-object) <br>\n",
    "        [Issue #7](#issue-7-the-cells-in-the-text-column-contain-short-images-urls) <br>\n",
    "        [Issue #8](#issue-8-the-text-columns-contains-ratings) <br>\n",
    "        [Issue #9](#issue-9-in-the-name-column-the-abscence-of-value-is-represented-by-the-string-none) <br>\n",
    "        [Issue #10](#issue-10-the-columns-doggo-floofer-pupper-puppo-represent-the-same-value-which-is-dog-stage) <br>\n",
    "        [Issue #11](#issue-11-there-are-many-useless-columns-in_reply_to_status_id-in_reply_to_user_id-source-retweeted_status_id-retweeted_status_user_id-and-retweeted_status_timestamp) <br>\n",
    "        [Issue #12](#issue-12-the-timestamp-column-contains-time-day-month-and-year-at-once) <br>\n",
    "        [Issue #13](#issue-13-the-image_predictions-dataset-contains-mutliple-predictions-for-each-jpg-image) <br>\n",
    "4. [Storing Data](#storing-data)\n",
    "5. [Analyzing and Visualizing Data](#analyzing-and-visualizing-data)"
   ]
  },
  {
   "cell_type": "markdown",
   "metadata": {},
   "source": [
    "## Data Gathering [🔝](#table-of-content)\n",
    "\n",
    "##### 1. Directly download the WeRateDogs Twitter archive data (twitter_archive_enhanced.csv)"
   ]
  },
  {
   "cell_type": "code",
   "execution_count": 95,
   "metadata": {
    "extensions": {
     "jupyter_dashboards": {
      "version": 1,
      "views": {
       "grid_default": {
        "hidden": true
       },
       "report_default": {
        "hidden": true
       }
      }
     }
    }
   },
   "outputs": [],
   "source": [
    "#python 3.9.12\n",
    "import json\n",
    "import pandas as pd\n",
    "import requests\n",
    "import pathlib\n",
    "import matplotlib.pyplot as plt\n",
    "%matplotlib inline"
   ]
  },
  {
   "cell_type": "code",
   "execution_count": 96,
   "metadata": {},
   "outputs": [],
   "source": [
    "# Keeping pandas from truncating long strings\n",
    "pd.set_option('display.max_colwidth', None)\n"
   ]
  },
  {
   "cell_type": "code",
   "execution_count": 97,
   "metadata": {},
   "outputs": [
    {
     "name": "stdout",
     "output_type": "stream",
     "text": [
      "<class 'pandas.core.frame.DataFrame'>\n",
      "RangeIndex: 2356 entries, 0 to 2355\n",
      "Data columns (total 17 columns):\n",
      " #   Column                      Non-Null Count  Dtype  \n",
      "---  ------                      --------------  -----  \n",
      " 0   tweet_id                    2356 non-null   int64  \n",
      " 1   in_reply_to_status_id       78 non-null     float64\n",
      " 2   in_reply_to_user_id         78 non-null     float64\n",
      " 3   timestamp                   2356 non-null   object \n",
      " 4   source                      2356 non-null   object \n",
      " 5   text                        2356 non-null   object \n",
      " 6   retweeted_status_id         181 non-null    float64\n",
      " 7   retweeted_status_user_id    181 non-null    float64\n",
      " 8   retweeted_status_timestamp  181 non-null    object \n",
      " 9   expanded_urls               2297 non-null   object \n",
      " 10  rating_numerator            2356 non-null   int64  \n",
      " 11  rating_denominator          2356 non-null   int64  \n",
      " 12  name                        2356 non-null   object \n",
      " 13  doggo                       2356 non-null   object \n",
      " 14  floofer                     2356 non-null   object \n",
      " 15  pupper                      2356 non-null   object \n",
      " 16  puppo                       2356 non-null   object \n",
      "dtypes: float64(4), int64(3), object(10)\n",
      "memory usage: 313.0+ KB\n"
     ]
    }
   ],
   "source": [
    "weratedog = pd.read_csv('./twitter-archive-enhanced.csv')\n",
    "weratedog.info()"
   ]
  },
  {
   "cell_type": "markdown",
   "metadata": {},
   "source": [
    "##### 2. Use the Requests library to download the tweet image prediction (image_predictions.tsv) "
   ]
  },
  {
   "cell_type": "code",
   "execution_count": 98,
   "metadata": {},
   "outputs": [
    {
     "data": {
      "text/plain": [
       "335079"
      ]
     },
     "execution_count": 98,
     "metadata": {},
     "output_type": "execute_result"
    }
   ],
   "source": [
    "response = requests.get(\n",
    "    ' https://d17h27t6h515a5.cloudfront.net/topher/2017/August/599fd2ad_image-predictions/image-predictions.tsv')\n",
    "\n",
    "pathlib.Path('./image-predictions.tsv').write_bytes(response.content)"
   ]
  },
  {
   "cell_type": "code",
   "execution_count": 99,
   "metadata": {},
   "outputs": [
    {
     "data": {
      "text/html": [
       "<div>\n",
       "<style scoped>\n",
       "    .dataframe tbody tr th:only-of-type {\n",
       "        vertical-align: middle;\n",
       "    }\n",
       "\n",
       "    .dataframe tbody tr th {\n",
       "        vertical-align: top;\n",
       "    }\n",
       "\n",
       "    .dataframe thead th {\n",
       "        text-align: right;\n",
       "    }\n",
       "</style>\n",
       "<table border=\"1\" class=\"dataframe\">\n",
       "  <thead>\n",
       "    <tr style=\"text-align: right;\">\n",
       "      <th></th>\n",
       "      <th>tweet_id</th>\n",
       "      <th>jpg_url</th>\n",
       "      <th>img_num</th>\n",
       "      <th>p1</th>\n",
       "      <th>p1_conf</th>\n",
       "      <th>p1_dog</th>\n",
       "      <th>p2</th>\n",
       "      <th>p2_conf</th>\n",
       "      <th>p2_dog</th>\n",
       "      <th>p3</th>\n",
       "      <th>p3_conf</th>\n",
       "      <th>p3_dog</th>\n",
       "    </tr>\n",
       "  </thead>\n",
       "  <tbody>\n",
       "    <tr>\n",
       "      <th>0</th>\n",
       "      <td>666020888022790149</td>\n",
       "      <td>https://pbs.twimg.com/media/CT4udn0WwAA0aMy.jpg</td>\n",
       "      <td>1</td>\n",
       "      <td>Welsh_springer_spaniel</td>\n",
       "      <td>0.465074</td>\n",
       "      <td>True</td>\n",
       "      <td>collie</td>\n",
       "      <td>0.156665</td>\n",
       "      <td>True</td>\n",
       "      <td>Shetland_sheepdog</td>\n",
       "      <td>0.061428</td>\n",
       "      <td>True</td>\n",
       "    </tr>\n",
       "    <tr>\n",
       "      <th>1</th>\n",
       "      <td>666029285002620928</td>\n",
       "      <td>https://pbs.twimg.com/media/CT42GRgUYAA5iDo.jpg</td>\n",
       "      <td>1</td>\n",
       "      <td>redbone</td>\n",
       "      <td>0.506826</td>\n",
       "      <td>True</td>\n",
       "      <td>miniature_pinscher</td>\n",
       "      <td>0.074192</td>\n",
       "      <td>True</td>\n",
       "      <td>Rhodesian_ridgeback</td>\n",
       "      <td>0.072010</td>\n",
       "      <td>True</td>\n",
       "    </tr>\n",
       "    <tr>\n",
       "      <th>2</th>\n",
       "      <td>666033412701032449</td>\n",
       "      <td>https://pbs.twimg.com/media/CT4521TWwAEvMyu.jpg</td>\n",
       "      <td>1</td>\n",
       "      <td>German_shepherd</td>\n",
       "      <td>0.596461</td>\n",
       "      <td>True</td>\n",
       "      <td>malinois</td>\n",
       "      <td>0.138584</td>\n",
       "      <td>True</td>\n",
       "      <td>bloodhound</td>\n",
       "      <td>0.116197</td>\n",
       "      <td>True</td>\n",
       "    </tr>\n",
       "    <tr>\n",
       "      <th>3</th>\n",
       "      <td>666044226329800704</td>\n",
       "      <td>https://pbs.twimg.com/media/CT5Dr8HUEAA-lEu.jpg</td>\n",
       "      <td>1</td>\n",
       "      <td>Rhodesian_ridgeback</td>\n",
       "      <td>0.408143</td>\n",
       "      <td>True</td>\n",
       "      <td>redbone</td>\n",
       "      <td>0.360687</td>\n",
       "      <td>True</td>\n",
       "      <td>miniature_pinscher</td>\n",
       "      <td>0.222752</td>\n",
       "      <td>True</td>\n",
       "    </tr>\n",
       "    <tr>\n",
       "      <th>4</th>\n",
       "      <td>666049248165822465</td>\n",
       "      <td>https://pbs.twimg.com/media/CT5IQmsXIAAKY4A.jpg</td>\n",
       "      <td>1</td>\n",
       "      <td>miniature_pinscher</td>\n",
       "      <td>0.560311</td>\n",
       "      <td>True</td>\n",
       "      <td>Rottweiler</td>\n",
       "      <td>0.243682</td>\n",
       "      <td>True</td>\n",
       "      <td>Doberman</td>\n",
       "      <td>0.154629</td>\n",
       "      <td>True</td>\n",
       "    </tr>\n",
       "  </tbody>\n",
       "</table>\n",
       "</div>"
      ],
      "text/plain": [
       "             tweet_id                                          jpg_url  \\\n",
       "0  666020888022790149  https://pbs.twimg.com/media/CT4udn0WwAA0aMy.jpg   \n",
       "1  666029285002620928  https://pbs.twimg.com/media/CT42GRgUYAA5iDo.jpg   \n",
       "2  666033412701032449  https://pbs.twimg.com/media/CT4521TWwAEvMyu.jpg   \n",
       "3  666044226329800704  https://pbs.twimg.com/media/CT5Dr8HUEAA-lEu.jpg   \n",
       "4  666049248165822465  https://pbs.twimg.com/media/CT5IQmsXIAAKY4A.jpg   \n",
       "\n",
       "   img_num                      p1   p1_conf  p1_dog                  p2  \\\n",
       "0        1  Welsh_springer_spaniel  0.465074    True              collie   \n",
       "1        1                 redbone  0.506826    True  miniature_pinscher   \n",
       "2        1         German_shepherd  0.596461    True            malinois   \n",
       "3        1     Rhodesian_ridgeback  0.408143    True             redbone   \n",
       "4        1      miniature_pinscher  0.560311    True          Rottweiler   \n",
       "\n",
       "    p2_conf  p2_dog                   p3   p3_conf  p3_dog  \n",
       "0  0.156665    True    Shetland_sheepdog  0.061428    True  \n",
       "1  0.074192    True  Rhodesian_ridgeback  0.072010    True  \n",
       "2  0.138584    True           bloodhound  0.116197    True  \n",
       "3  0.360687    True   miniature_pinscher  0.222752    True  \n",
       "4  0.243682    True             Doberman  0.154629    True  "
      ]
     },
     "execution_count": 99,
     "metadata": {},
     "output_type": "execute_result"
    }
   ],
   "source": [
    "img_pred = pd.read_csv('./image-predictions.tsv', sep='\\t')\n",
    "img_pred.head()"
   ]
  },
  {
   "cell_type": "code",
   "execution_count": 100,
   "metadata": {},
   "outputs": [
    {
     "name": "stdout",
     "output_type": "stream",
     "text": [
      "<class 'pandas.core.frame.DataFrame'>\n",
      "RangeIndex: 2075 entries, 0 to 2074\n",
      "Data columns (total 12 columns):\n",
      " #   Column    Non-Null Count  Dtype  \n",
      "---  ------    --------------  -----  \n",
      " 0   tweet_id  2075 non-null   int64  \n",
      " 1   jpg_url   2075 non-null   object \n",
      " 2   img_num   2075 non-null   int64  \n",
      " 3   p1        2075 non-null   object \n",
      " 4   p1_conf   2075 non-null   float64\n",
      " 5   p1_dog    2075 non-null   bool   \n",
      " 6   p2        2075 non-null   object \n",
      " 7   p2_conf   2075 non-null   float64\n",
      " 8   p2_dog    2075 non-null   bool   \n",
      " 9   p3        2075 non-null   object \n",
      " 10  p3_conf   2075 non-null   float64\n",
      " 11  p3_dog    2075 non-null   bool   \n",
      "dtypes: bool(3), float64(3), int64(2), object(4)\n",
      "memory usage: 152.1+ KB\n"
     ]
    }
   ],
   "source": [
    "img_pred.info()"
   ]
  },
  {
   "cell_type": "markdown",
   "metadata": {},
   "source": [
    "##### 3. Use the Tweepy library to query additional data via the Twitter API (**tweet_json.txt**)"
   ]
  },
  {
   "cell_type": "code",
   "execution_count": 101,
   "metadata": {},
   "outputs": [],
   "source": [
    "# import tweepy\n",
    "# from tweepy import OAuthHandler\n",
    "# import json\n",
    "# from timeit import default_timer as timer\n",
    "\n",
    "# # Query Twitter API for each tweet in the Twitter archive and save JSON in a text file\n",
    "# # These are hidden to comply with Twitter's API terms and conditions\n",
    "# consumer_key = 'HIDDEN'\n",
    "# consumer_secret = 'HIDDEN'\n",
    "# access_token = 'HIDDEN'\n",
    "# access_secret = 'HIDDEN'\n",
    "\n",
    "# auth = OAuthHandler(consumer_key, consumer_secret)\n",
    "# auth.set_access_token(access_token, access_secret)\n",
    "\n",
    "# api = tweepy.API(auth, wait_on_rate_limit=True)\n",
    "\n",
    "# # NOTE TO STUDENT WITH MOBILE VERIFICATION ISSUES:\n",
    "# # df_1 is a DataFrame with the twitter_archive_enhanced.csv file. You may have to\n",
    "# # change line 17 to match the name of your DataFrame with twitter_archive_enhanced.csv\n",
    "# # NOTE TO REVIEWER: this student had mobile verification issues so the following\n",
    "# # Twitter API code was sent to this student from a Udacity instructor\n",
    "# # Tweet IDs for which to gather additional data via Twitter's API\n",
    "# tweet_ids = df_1.tweet_id.values\n",
    "# len(tweet_ids)\n",
    "\n",
    "# # Query Twitter's API for JSON data for each tweet ID in the Twitter archive\n",
    "# count = 0\n",
    "# fails_dict = {}\n",
    "# start = timer()\n",
    "# # Save each tweet's returned JSON as a new line in a .txt file\n",
    "# with open('tweet_json.txt', 'w') as outfile:\n",
    "#     # This loop will likely take 20-30 minutes to run because of Twitter's rate limit\n",
    "#     for tweet_id in tweet_ids:\n",
    "#         count += 1\n",
    "#         print(f\"{count}: {str(tweet_id)}\")\n",
    "#         try:\n",
    "#             tweet = api.get_status(tweet_id, tweet_mode='extended')\n",
    "#             print(\"Success\")\n",
    "#             json.dump(tweet._json, outfile)\n",
    "#             outfile.write('\\n')\n",
    "#         except tweepy.TweepError as e:\n",
    "#             print(\"Fail\")\n",
    "#             fails_dict[tweet_id] = e\n",
    "            \n",
    "# end = timer()\n",
    "# print(end - start)\n",
    "# print(fails_dict)\n"
   ]
  },
  {
   "cell_type": "code",
   "execution_count": 102,
   "metadata": {},
   "outputs": [],
   "source": [
    "# Since a was unable to get and API key from tweeter, i'm using the 'tweet_json.txt' file provided in the course\n",
    "def get_additional_data():\n",
    "    with open('tweet-json.txt') as tweet_file:\n",
    "        tweets = tweet_file.readlines()\n",
    "    df_data = {'id_str': [], 'retweet_count': [], 'favorite_count': []}\n",
    "    for tweet in tweets:\n",
    "        data = json.loads(tweet)\n",
    "        df_data['id_str'].append(int(data['id_str']))\n",
    "        df_data['retweet_count'].append(int(data['retweet_count']))\n",
    "        df_data['favorite_count'].append(int(data['favorite_count']))\n",
    "    return pd.DataFrame(df_data)\n"
   ]
  },
  {
   "cell_type": "code",
   "execution_count": 103,
   "metadata": {},
   "outputs": [
    {
     "data": {
      "text/html": [
       "<div>\n",
       "<style scoped>\n",
       "    .dataframe tbody tr th:only-of-type {\n",
       "        vertical-align: middle;\n",
       "    }\n",
       "\n",
       "    .dataframe tbody tr th {\n",
       "        vertical-align: top;\n",
       "    }\n",
       "\n",
       "    .dataframe thead th {\n",
       "        text-align: right;\n",
       "    }\n",
       "</style>\n",
       "<table border=\"1\" class=\"dataframe\">\n",
       "  <thead>\n",
       "    <tr style=\"text-align: right;\">\n",
       "      <th></th>\n",
       "      <th>tweet_id</th>\n",
       "      <th>retweet_count</th>\n",
       "      <th>favorite_count</th>\n",
       "    </tr>\n",
       "  </thead>\n",
       "  <tbody>\n",
       "    <tr>\n",
       "      <th>0</th>\n",
       "      <td>892420643555336193</td>\n",
       "      <td>8853</td>\n",
       "      <td>39467</td>\n",
       "    </tr>\n",
       "    <tr>\n",
       "      <th>1</th>\n",
       "      <td>892177421306343426</td>\n",
       "      <td>6514</td>\n",
       "      <td>33819</td>\n",
       "    </tr>\n",
       "    <tr>\n",
       "      <th>2</th>\n",
       "      <td>891815181378084864</td>\n",
       "      <td>4328</td>\n",
       "      <td>25461</td>\n",
       "    </tr>\n",
       "    <tr>\n",
       "      <th>3</th>\n",
       "      <td>891689557279858688</td>\n",
       "      <td>8964</td>\n",
       "      <td>42908</td>\n",
       "    </tr>\n",
       "    <tr>\n",
       "      <th>4</th>\n",
       "      <td>891327558926688256</td>\n",
       "      <td>9774</td>\n",
       "      <td>41048</td>\n",
       "    </tr>\n",
       "  </tbody>\n",
       "</table>\n",
       "</div>"
      ],
      "text/plain": [
       "             tweet_id  retweet_count  favorite_count\n",
       "0  892420643555336193           8853           39467\n",
       "1  892177421306343426           6514           33819\n",
       "2  891815181378084864           4328           25461\n",
       "3  891689557279858688           8964           42908\n",
       "4  891327558926688256           9774           41048"
      ]
     },
     "execution_count": 103,
     "metadata": {},
     "output_type": "execute_result"
    }
   ],
   "source": [
    "df = get_additional_data()\n",
    "df.rename({'id_str': 'tweet_id'}, inplace=True, axis=1)\n",
    "df.head()"
   ]
  },
  {
   "cell_type": "code",
   "execution_count": 104,
   "metadata": {},
   "outputs": [],
   "source": [
    "# merge both datasets into one\n",
    "df = pd.merge(weratedog, df, how='left', on='tweet_id', sort=False)\n",
    "\n"
   ]
  },
  {
   "cell_type": "markdown",
   "metadata": {
    "extensions": {
     "jupyter_dashboards": {
      "version": 1,
      "views": {
       "grid_default": {
        "col": 4,
        "height": 4,
        "hidden": false,
        "row": 28,
        "width": 4
       },
       "report_default": {
        "hidden": false
       }
      }
     }
    }
   },
   "source": [
    "## Assessing Data [🔝](#table-of-content)\n",
    "\n",
    "\n"
   ]
  },
  {
   "cell_type": "code",
   "execution_count": 105,
   "metadata": {},
   "outputs": [
    {
     "data": {
      "text/html": [
       "<div>\n",
       "<style scoped>\n",
       "    .dataframe tbody tr th:only-of-type {\n",
       "        vertical-align: middle;\n",
       "    }\n",
       "\n",
       "    .dataframe tbody tr th {\n",
       "        vertical-align: top;\n",
       "    }\n",
       "\n",
       "    .dataframe thead th {\n",
       "        text-align: right;\n",
       "    }\n",
       "</style>\n",
       "<table border=\"1\" class=\"dataframe\">\n",
       "  <thead>\n",
       "    <tr style=\"text-align: right;\">\n",
       "      <th></th>\n",
       "      <th>tweet_id</th>\n",
       "      <th>in_reply_to_status_id</th>\n",
       "      <th>in_reply_to_user_id</th>\n",
       "      <th>timestamp</th>\n",
       "      <th>source</th>\n",
       "      <th>text</th>\n",
       "      <th>retweeted_status_id</th>\n",
       "      <th>retweeted_status_user_id</th>\n",
       "      <th>retweeted_status_timestamp</th>\n",
       "      <th>expanded_urls</th>\n",
       "      <th>rating_numerator</th>\n",
       "      <th>rating_denominator</th>\n",
       "      <th>name</th>\n",
       "      <th>doggo</th>\n",
       "      <th>floofer</th>\n",
       "      <th>pupper</th>\n",
       "      <th>puppo</th>\n",
       "      <th>retweet_count</th>\n",
       "      <th>favorite_count</th>\n",
       "    </tr>\n",
       "  </thead>\n",
       "  <tbody>\n",
       "    <tr>\n",
       "      <th>1893</th>\n",
       "      <td>674752233200820224</td>\n",
       "      <td>NaN</td>\n",
       "      <td>NaN</td>\n",
       "      <td>2015-12-10 00:47:23 +0000</td>\n",
       "      <td>&lt;a href=\"http://twitter.com/download/iphone\" rel=\"nofollow\"&gt;Twitter for iPhone&lt;/a&gt;</td>\n",
       "      <td>Everyone please just appreciate how perfect these two photos are. 12/10 for both https://t.co/rLf7asnHxO</td>\n",
       "      <td>NaN</td>\n",
       "      <td>NaN</td>\n",
       "      <td>NaN</td>\n",
       "      <td>https://twitter.com/dog_rates/status/674752233200820224/photo/1,https://twitter.com/dog_rates/status/674752233200820224/photo/1</td>\n",
       "      <td>12</td>\n",
       "      <td>10</td>\n",
       "      <td>None</td>\n",
       "      <td>None</td>\n",
       "      <td>None</td>\n",
       "      <td>None</td>\n",
       "      <td>None</td>\n",
       "      <td>516.0</td>\n",
       "      <td>1580.0</td>\n",
       "    </tr>\n",
       "    <tr>\n",
       "      <th>653</th>\n",
       "      <td>792050063153438720</td>\n",
       "      <td>NaN</td>\n",
       "      <td>NaN</td>\n",
       "      <td>2016-10-28 17:07:05 +0000</td>\n",
       "      <td>&lt;a href=\"http://twitter.com/download/iphone\" rel=\"nofollow\"&gt;Twitter for iPhone&lt;/a&gt;</td>\n",
       "      <td>This is Remus. He's a mop that came to life. Can't see anything. Constantly trips over himself. Still a very good dog. 11/10 https://t.co/S3f1SYylzu</td>\n",
       "      <td>NaN</td>\n",
       "      <td>NaN</td>\n",
       "      <td>NaN</td>\n",
       "      <td>https://twitter.com/dog_rates/status/792050063153438720/photo/1,https://twitter.com/dog_rates/status/792050063153438720/photo/1</td>\n",
       "      <td>11</td>\n",
       "      <td>10</td>\n",
       "      <td>Remus</td>\n",
       "      <td>None</td>\n",
       "      <td>None</td>\n",
       "      <td>None</td>\n",
       "      <td>None</td>\n",
       "      <td>2088.0</td>\n",
       "      <td>8029.0</td>\n",
       "    </tr>\n",
       "    <tr>\n",
       "      <th>969</th>\n",
       "      <td>750132105863102464</td>\n",
       "      <td>NaN</td>\n",
       "      <td>NaN</td>\n",
       "      <td>2016-07-05 01:00:05 +0000</td>\n",
       "      <td>&lt;a href=\"http://twitter.com/download/iphone\" rel=\"nofollow\"&gt;Twitter for iPhone&lt;/a&gt;</td>\n",
       "      <td>This is Stewie. He will roundhouse kick anyone who questions his independence. 11/10 free af https://t.co/dDx2gKefYo</td>\n",
       "      <td>NaN</td>\n",
       "      <td>NaN</td>\n",
       "      <td>NaN</td>\n",
       "      <td>https://twitter.com/dog_rates/status/750132105863102464/photo/1</td>\n",
       "      <td>11</td>\n",
       "      <td>10</td>\n",
       "      <td>Stewie</td>\n",
       "      <td>None</td>\n",
       "      <td>None</td>\n",
       "      <td>None</td>\n",
       "      <td>None</td>\n",
       "      <td>1440.0</td>\n",
       "      <td>3990.0</td>\n",
       "    </tr>\n",
       "    <tr>\n",
       "      <th>2010</th>\n",
       "      <td>672248013293752320</td>\n",
       "      <td>NaN</td>\n",
       "      <td>NaN</td>\n",
       "      <td>2015-12-03 02:56:30 +0000</td>\n",
       "      <td>&lt;a href=\"http://twitter.com/download/iphone\" rel=\"nofollow\"&gt;Twitter for iPhone&lt;/a&gt;</td>\n",
       "      <td>10/10 for dog. 7/10 for cat. 12/10 for human. Much skill. Would pet all https://t.co/uhx5gfpx5k</td>\n",
       "      <td>NaN</td>\n",
       "      <td>NaN</td>\n",
       "      <td>NaN</td>\n",
       "      <td>https://twitter.com/dog_rates/status/672248013293752320/photo/1</td>\n",
       "      <td>10</td>\n",
       "      <td>10</td>\n",
       "      <td>None</td>\n",
       "      <td>None</td>\n",
       "      <td>None</td>\n",
       "      <td>None</td>\n",
       "      <td>None</td>\n",
       "      <td>656.0</td>\n",
       "      <td>1833.0</td>\n",
       "    </tr>\n",
       "    <tr>\n",
       "      <th>671</th>\n",
       "      <td>789960241177853952</td>\n",
       "      <td>NaN</td>\n",
       "      <td>NaN</td>\n",
       "      <td>2016-10-22 22:42:52 +0000</td>\n",
       "      <td>&lt;a href=\"http://twitter.com/download/iphone\" rel=\"nofollow\"&gt;Twitter for iPhone&lt;/a&gt;</td>\n",
       "      <td>RT @dog_rates: This is Buddy. His father was a bear and his mother was a perfectly toasted marshmallow. 12/10 would snug so well https://t.…</td>\n",
       "      <td>7.624645e+17</td>\n",
       "      <td>4.196984e+09</td>\n",
       "      <td>2016-08-08 01:44:46 +0000</td>\n",
       "      <td>https://twitter.com/dog_rates/status/762464539388485633/photo/1,https://twitter.com/dog_rates/status/762464539388485633/photo/1,https://twitter.com/dog_rates/status/762464539388485633/photo/1,https://twitter.com/dog_rates/status/762464539388485633/photo/1</td>\n",
       "      <td>12</td>\n",
       "      <td>10</td>\n",
       "      <td>Buddy</td>\n",
       "      <td>None</td>\n",
       "      <td>None</td>\n",
       "      <td>None</td>\n",
       "      <td>None</td>\n",
       "      <td>4839.0</td>\n",
       "      <td>0.0</td>\n",
       "    </tr>\n",
       "  </tbody>\n",
       "</table>\n",
       "</div>"
      ],
      "text/plain": [
       "                tweet_id  in_reply_to_status_id  in_reply_to_user_id  \\\n",
       "1893  674752233200820224                    NaN                  NaN   \n",
       "653   792050063153438720                    NaN                  NaN   \n",
       "969   750132105863102464                    NaN                  NaN   \n",
       "2010  672248013293752320                    NaN                  NaN   \n",
       "671   789960241177853952                    NaN                  NaN   \n",
       "\n",
       "                      timestamp  \\\n",
       "1893  2015-12-10 00:47:23 +0000   \n",
       "653   2016-10-28 17:07:05 +0000   \n",
       "969   2016-07-05 01:00:05 +0000   \n",
       "2010  2015-12-03 02:56:30 +0000   \n",
       "671   2016-10-22 22:42:52 +0000   \n",
       "\n",
       "                                                                                  source  \\\n",
       "1893  <a href=\"http://twitter.com/download/iphone\" rel=\"nofollow\">Twitter for iPhone</a>   \n",
       "653   <a href=\"http://twitter.com/download/iphone\" rel=\"nofollow\">Twitter for iPhone</a>   \n",
       "969   <a href=\"http://twitter.com/download/iphone\" rel=\"nofollow\">Twitter for iPhone</a>   \n",
       "2010  <a href=\"http://twitter.com/download/iphone\" rel=\"nofollow\">Twitter for iPhone</a>   \n",
       "671   <a href=\"http://twitter.com/download/iphone\" rel=\"nofollow\">Twitter for iPhone</a>   \n",
       "\n",
       "                                                                                                                                                      text  \\\n",
       "1893                                              Everyone please just appreciate how perfect these two photos are. 12/10 for both https://t.co/rLf7asnHxO   \n",
       "653   This is Remus. He's a mop that came to life. Can't see anything. Constantly trips over himself. Still a very good dog. 11/10 https://t.co/S3f1SYylzu   \n",
       "969                                   This is Stewie. He will roundhouse kick anyone who questions his independence. 11/10 free af https://t.co/dDx2gKefYo   \n",
       "2010                                                       10/10 for dog. 7/10 for cat. 12/10 for human. Much skill. Would pet all https://t.co/uhx5gfpx5k   \n",
       "671           RT @dog_rates: This is Buddy. His father was a bear and his mother was a perfectly toasted marshmallow. 12/10 would snug so well https://t.…   \n",
       "\n",
       "      retweeted_status_id  retweeted_status_user_id  \\\n",
       "1893                  NaN                       NaN   \n",
       "653                   NaN                       NaN   \n",
       "969                   NaN                       NaN   \n",
       "2010                  NaN                       NaN   \n",
       "671          7.624645e+17              4.196984e+09   \n",
       "\n",
       "     retweeted_status_timestamp  \\\n",
       "1893                        NaN   \n",
       "653                         NaN   \n",
       "969                         NaN   \n",
       "2010                        NaN   \n",
       "671   2016-08-08 01:44:46 +0000   \n",
       "\n",
       "                                                                                                                                                                                                                                                        expanded_urls  \\\n",
       "1893                                                                                                                                  https://twitter.com/dog_rates/status/674752233200820224/photo/1,https://twitter.com/dog_rates/status/674752233200820224/photo/1   \n",
       "653                                                                                                                                   https://twitter.com/dog_rates/status/792050063153438720/photo/1,https://twitter.com/dog_rates/status/792050063153438720/photo/1   \n",
       "969                                                                                                                                                                                                   https://twitter.com/dog_rates/status/750132105863102464/photo/1   \n",
       "2010                                                                                                                                                                                                  https://twitter.com/dog_rates/status/672248013293752320/photo/1   \n",
       "671   https://twitter.com/dog_rates/status/762464539388485633/photo/1,https://twitter.com/dog_rates/status/762464539388485633/photo/1,https://twitter.com/dog_rates/status/762464539388485633/photo/1,https://twitter.com/dog_rates/status/762464539388485633/photo/1   \n",
       "\n",
       "      rating_numerator  rating_denominator    name doggo floofer pupper puppo  \\\n",
       "1893                12                  10    None  None    None   None  None   \n",
       "653                 11                  10   Remus  None    None   None  None   \n",
       "969                 11                  10  Stewie  None    None   None  None   \n",
       "2010                10                  10    None  None    None   None  None   \n",
       "671                 12                  10   Buddy  None    None   None  None   \n",
       "\n",
       "      retweet_count  favorite_count  \n",
       "1893          516.0          1580.0  \n",
       "653          2088.0          8029.0  \n",
       "969          1440.0          3990.0  \n",
       "2010          656.0          1833.0  \n",
       "671          4839.0             0.0  "
      ]
     },
     "execution_count": 105,
     "metadata": {},
     "output_type": "execute_result"
    }
   ],
   "source": [
    "#view a sample\n",
    "df.sample(5)"
   ]
  },
  {
   "cell_type": "code",
   "execution_count": 106,
   "metadata": {},
   "outputs": [
    {
     "name": "stdout",
     "output_type": "stream",
     "text": [
      "<class 'pandas.core.frame.DataFrame'>\n",
      "Int64Index: 2356 entries, 0 to 2355\n",
      "Data columns (total 19 columns):\n",
      " #   Column                      Non-Null Count  Dtype  \n",
      "---  ------                      --------------  -----  \n",
      " 0   tweet_id                    2356 non-null   int64  \n",
      " 1   in_reply_to_status_id       78 non-null     float64\n",
      " 2   in_reply_to_user_id         78 non-null     float64\n",
      " 3   timestamp                   2356 non-null   object \n",
      " 4   source                      2356 non-null   object \n",
      " 5   text                        2356 non-null   object \n",
      " 6   retweeted_status_id         181 non-null    float64\n",
      " 7   retweeted_status_user_id    181 non-null    float64\n",
      " 8   retweeted_status_timestamp  181 non-null    object \n",
      " 9   expanded_urls               2297 non-null   object \n",
      " 10  rating_numerator            2356 non-null   int64  \n",
      " 11  rating_denominator          2356 non-null   int64  \n",
      " 12  name                        2356 non-null   object \n",
      " 13  doggo                       2356 non-null   object \n",
      " 14  floofer                     2356 non-null   object \n",
      " 15  pupper                      2356 non-null   object \n",
      " 16  puppo                       2356 non-null   object \n",
      " 17  retweet_count               2354 non-null   float64\n",
      " 18  favorite_count              2354 non-null   float64\n",
      "dtypes: float64(6), int64(3), object(10)\n",
      "memory usage: 368.1+ KB\n"
     ]
    }
   ],
   "source": [
    "#get general infos\n",
    "df.info()"
   ]
  },
  {
   "cell_type": "code",
   "execution_count": 107,
   "metadata": {},
   "outputs": [
    {
     "data": {
      "text/plain": [
       "tweet_id                         0\n",
       "in_reply_to_status_id         2278\n",
       "in_reply_to_user_id           2278\n",
       "timestamp                        0\n",
       "source                           0\n",
       "text                             0\n",
       "retweeted_status_id           2175\n",
       "retweeted_status_user_id      2175\n",
       "retweeted_status_timestamp    2175\n",
       "expanded_urls                   59\n",
       "rating_numerator                 0\n",
       "rating_denominator               0\n",
       "name                             0\n",
       "doggo                            0\n",
       "floofer                          0\n",
       "pupper                           0\n",
       "puppo                            0\n",
       "retweet_count                    2\n",
       "favorite_count                   2\n",
       "dtype: int64"
      ]
     },
     "execution_count": 107,
     "metadata": {},
     "output_type": "execute_result"
    }
   ],
   "source": [
    "#check the number of null values per column\n",
    "df.isnull().sum()"
   ]
  },
  {
   "cell_type": "code",
   "execution_count": 108,
   "metadata": {},
   "outputs": [
    {
     "data": {
      "text/plain": [
       "0"
      ]
     },
     "execution_count": 108,
     "metadata": {},
     "output_type": "execute_result"
    }
   ],
   "source": [
    "#checking duplicates values\n",
    "df.duplicated().sum()"
   ]
  },
  {
   "cell_type": "code",
   "execution_count": 109,
   "metadata": {},
   "outputs": [
    {
     "data": {
      "text/html": [
       "<div>\n",
       "<style scoped>\n",
       "    .dataframe tbody tr th:only-of-type {\n",
       "        vertical-align: middle;\n",
       "    }\n",
       "\n",
       "    .dataframe tbody tr th {\n",
       "        vertical-align: top;\n",
       "    }\n",
       "\n",
       "    .dataframe thead th {\n",
       "        text-align: right;\n",
       "    }\n",
       "</style>\n",
       "<table border=\"1\" class=\"dataframe\">\n",
       "  <thead>\n",
       "    <tr style=\"text-align: right;\">\n",
       "      <th></th>\n",
       "      <th>tweet_id</th>\n",
       "      <th>in_reply_to_status_id</th>\n",
       "      <th>in_reply_to_user_id</th>\n",
       "      <th>retweeted_status_id</th>\n",
       "      <th>retweeted_status_user_id</th>\n",
       "      <th>rating_numerator</th>\n",
       "      <th>rating_denominator</th>\n",
       "      <th>retweet_count</th>\n",
       "      <th>favorite_count</th>\n",
       "    </tr>\n",
       "  </thead>\n",
       "  <tbody>\n",
       "    <tr>\n",
       "      <th>count</th>\n",
       "      <td>2.356000e+03</td>\n",
       "      <td>7.800000e+01</td>\n",
       "      <td>7.800000e+01</td>\n",
       "      <td>1.810000e+02</td>\n",
       "      <td>1.810000e+02</td>\n",
       "      <td>2356.000000</td>\n",
       "      <td>2356.000000</td>\n",
       "      <td>2354.000000</td>\n",
       "      <td>2354.000000</td>\n",
       "    </tr>\n",
       "    <tr>\n",
       "      <th>mean</th>\n",
       "      <td>7.427716e+17</td>\n",
       "      <td>7.455079e+17</td>\n",
       "      <td>2.014171e+16</td>\n",
       "      <td>7.720400e+17</td>\n",
       "      <td>1.241698e+16</td>\n",
       "      <td>13.126486</td>\n",
       "      <td>10.455433</td>\n",
       "      <td>3164.797366</td>\n",
       "      <td>8080.968564</td>\n",
       "    </tr>\n",
       "    <tr>\n",
       "      <th>std</th>\n",
       "      <td>6.856705e+16</td>\n",
       "      <td>7.582492e+16</td>\n",
       "      <td>1.252797e+17</td>\n",
       "      <td>6.236928e+16</td>\n",
       "      <td>9.599254e+16</td>\n",
       "      <td>45.876648</td>\n",
       "      <td>6.745237</td>\n",
       "      <td>5284.770364</td>\n",
       "      <td>11814.771334</td>\n",
       "    </tr>\n",
       "    <tr>\n",
       "      <th>min</th>\n",
       "      <td>6.660209e+17</td>\n",
       "      <td>6.658147e+17</td>\n",
       "      <td>1.185634e+07</td>\n",
       "      <td>6.661041e+17</td>\n",
       "      <td>7.832140e+05</td>\n",
       "      <td>0.000000</td>\n",
       "      <td>0.000000</td>\n",
       "      <td>0.000000</td>\n",
       "      <td>0.000000</td>\n",
       "    </tr>\n",
       "    <tr>\n",
       "      <th>25%</th>\n",
       "      <td>6.783989e+17</td>\n",
       "      <td>6.757419e+17</td>\n",
       "      <td>3.086374e+08</td>\n",
       "      <td>7.186315e+17</td>\n",
       "      <td>4.196984e+09</td>\n",
       "      <td>10.000000</td>\n",
       "      <td>10.000000</td>\n",
       "      <td>624.500000</td>\n",
       "      <td>1415.000000</td>\n",
       "    </tr>\n",
       "    <tr>\n",
       "      <th>50%</th>\n",
       "      <td>7.196279e+17</td>\n",
       "      <td>7.038708e+17</td>\n",
       "      <td>4.196984e+09</td>\n",
       "      <td>7.804657e+17</td>\n",
       "      <td>4.196984e+09</td>\n",
       "      <td>11.000000</td>\n",
       "      <td>10.000000</td>\n",
       "      <td>1473.500000</td>\n",
       "      <td>3603.500000</td>\n",
       "    </tr>\n",
       "    <tr>\n",
       "      <th>75%</th>\n",
       "      <td>7.993373e+17</td>\n",
       "      <td>8.257804e+17</td>\n",
       "      <td>4.196984e+09</td>\n",
       "      <td>8.203146e+17</td>\n",
       "      <td>4.196984e+09</td>\n",
       "      <td>12.000000</td>\n",
       "      <td>10.000000</td>\n",
       "      <td>3652.000000</td>\n",
       "      <td>10122.250000</td>\n",
       "    </tr>\n",
       "    <tr>\n",
       "      <th>max</th>\n",
       "      <td>8.924206e+17</td>\n",
       "      <td>8.862664e+17</td>\n",
       "      <td>8.405479e+17</td>\n",
       "      <td>8.874740e+17</td>\n",
       "      <td>7.874618e+17</td>\n",
       "      <td>1776.000000</td>\n",
       "      <td>170.000000</td>\n",
       "      <td>79515.000000</td>\n",
       "      <td>132810.000000</td>\n",
       "    </tr>\n",
       "  </tbody>\n",
       "</table>\n",
       "</div>"
      ],
      "text/plain": [
       "           tweet_id  in_reply_to_status_id  in_reply_to_user_id  \\\n",
       "count  2.356000e+03           7.800000e+01         7.800000e+01   \n",
       "mean   7.427716e+17           7.455079e+17         2.014171e+16   \n",
       "std    6.856705e+16           7.582492e+16         1.252797e+17   \n",
       "min    6.660209e+17           6.658147e+17         1.185634e+07   \n",
       "25%    6.783989e+17           6.757419e+17         3.086374e+08   \n",
       "50%    7.196279e+17           7.038708e+17         4.196984e+09   \n",
       "75%    7.993373e+17           8.257804e+17         4.196984e+09   \n",
       "max    8.924206e+17           8.862664e+17         8.405479e+17   \n",
       "\n",
       "       retweeted_status_id  retweeted_status_user_id  rating_numerator  \\\n",
       "count         1.810000e+02              1.810000e+02       2356.000000   \n",
       "mean          7.720400e+17              1.241698e+16         13.126486   \n",
       "std           6.236928e+16              9.599254e+16         45.876648   \n",
       "min           6.661041e+17              7.832140e+05          0.000000   \n",
       "25%           7.186315e+17              4.196984e+09         10.000000   \n",
       "50%           7.804657e+17              4.196984e+09         11.000000   \n",
       "75%           8.203146e+17              4.196984e+09         12.000000   \n",
       "max           8.874740e+17              7.874618e+17       1776.000000   \n",
       "\n",
       "       rating_denominator  retweet_count  favorite_count  \n",
       "count         2356.000000    2354.000000     2354.000000  \n",
       "mean            10.455433    3164.797366     8080.968564  \n",
       "std              6.745237    5284.770364    11814.771334  \n",
       "min              0.000000       0.000000        0.000000  \n",
       "25%             10.000000     624.500000     1415.000000  \n",
       "50%             10.000000    1473.500000     3603.500000  \n",
       "75%             10.000000    3652.000000    10122.250000  \n",
       "max            170.000000   79515.000000   132810.000000  "
      ]
     },
     "execution_count": 109,
     "metadata": {},
     "output_type": "execute_result"
    }
   ],
   "source": [
    "#get global statistics\n",
    "df.describe()"
   ]
  },
  {
   "cell_type": "code",
   "execution_count": 110,
   "metadata": {},
   "outputs": [],
   "source": [
    "#keeping only original tweets\n",
    "df = df[df.in_reply_to_user_id.isnull()]\n",
    "df = df[df.in_reply_to_status_id.isnull()]\n",
    "df = df[df.retweeted_status_id.isnull()]\n",
    "df = df[df.retweeted_status_timestamp.isnull()]\n",
    "df = df[df.retweeted_status_user_id.isnull()]\n"
   ]
  },
  {
   "cell_type": "markdown",
   "metadata": {},
   "source": [
    "### Quality issues\n",
    "1. some cells in the expended_urls column have duplicated image url and unterminated images urls and some links lead to video and external webpages\n",
    "\n",
    "2. there are cells in the expanded_urls column with null values \n",
    "\n",
    "3. some cells in the text column contain hashtags and mentions\n",
    "\n",
    "4. the timestamp column has unnecessary characters: +0000\n",
    "\n",
    "5. the data type of the tweet_id column is int which is supposed to be object\n",
    "\n",
    "6. the data type of the timestamp column is supposed to be datetime, not object\n",
    "\n",
    "7. the cells in the text column contain short images urls\n",
    "\n",
    "8. the text column contains ratings\n",
    "\n",
    "9. in the name column, the abscence of value is represented by the string 'None' which is confusing\n",
    "\n"
   ]
  },
  {
   "cell_type": "markdown",
   "metadata": {
    "extensions": {
     "jupyter_dashboards": {
      "version": 1,
      "views": {
       "grid_default": {
        "col": 0,
        "height": 7,
        "hidden": false,
        "row": 40,
        "width": 12
       },
       "report_default": {
        "hidden": false
       }
      }
     }
    }
   },
   "source": [
    "### Tidiness issues\n",
    "10. the columns doggo, floofer, pupper, puppo, represent the same value which is dog stage.\n",
    "\n",
    "11. there are many useless columns: in_reply_to_status_id, in_reply_to_user_id, source, retweeted_status_id, retweeted_status_user_id and retweeted_status_timestamp\n",
    "\n",
    "12. the timestamp column contains time, day, month, and year at once\n",
    "\n",
    "13. the image_predictions dataset contains mutliple predictions for each jpg image"
   ]
  },
  {
   "cell_type": "markdown",
   "metadata": {
    "extensions": {
     "jupyter_dashboards": {
      "version": 1,
      "views": {
       "grid_default": {
        "col": 4,
        "height": 4,
        "hidden": false,
        "row": 32,
        "width": 4
       },
       "report_default": {
        "hidden": false
       }
      }
     }
    }
   },
   "source": [
    "## Cleaning Data [🔝](#table-of-content)\n"
   ]
  },
  {
   "cell_type": "code",
   "execution_count": 111,
   "metadata": {},
   "outputs": [],
   "source": [
    "# Make copies of original dataframe\n",
    "df2 = df.copy()\n",
    "img_pred2 = img_pred.copy()"
   ]
  },
  {
   "cell_type": "markdown",
   "metadata": {
    "notebookRunGroups": {
     "groupValue": ""
    }
   },
   "source": [
    "### Issue #1: some cells in the expended_urls column have duplicated image url and unterminated images urls and some links lead to video and external webpages"
   ]
  },
  {
   "cell_type": "markdown",
   "metadata": {},
   "source": [
    "#### Define:\n",
    "Remove duplicated and unterminated images urls from the expended_urls column, same as images urls that lead to video or external webpages"
   ]
  },
  {
   "cell_type": "markdown",
   "metadata": {},
   "source": [
    "#### Code:"
   ]
  },
  {
   "cell_type": "code",
   "execution_count": 112,
   "metadata": {},
   "outputs": [],
   "source": [
    "import re\n",
    "def remove_duplicated_urls(x):\n",
    "    \"\"\"Extract only valid twitter images urls\"\"\"\n",
    "    # url_regex = \"^https?:\\\\/\\\\/(?:www\\\\.)?[-a-zA-Z0-9@:%._\\\\+~#=]{1,256}\\\\.[a-zA-Z0-9()]{1,6}\\\\b(?:[-a-zA-Z0-9()@:%_\\\\+.~#?&\\\\/=]*)$\"\n",
    "\n",
    "    x = str(x).split(',')\n",
    "    \n",
    "    for url_string in x:\n",
    "        if ('twitter.com' in url_string) and ('dog_rates' in url_string) and ('status' in url_string) and ('photo' in url_string): \n",
    "            return url_string\n",
    "\n",
    "\n",
    "df2.expanded_urls = df2.expanded_urls.apply(lambda x: remove_duplicated_urls(x))\n"
   ]
  },
  {
   "cell_type": "markdown",
   "metadata": {},
   "source": [
    "#### Test:"
   ]
  },
  {
   "cell_type": "code",
   "execution_count": 113,
   "metadata": {},
   "outputs": [
    {
     "data": {
      "text/plain": [
       "0       https://twitter.com/dog_rates/status/892420643555336193/photo/1\n",
       "1       https://twitter.com/dog_rates/status/892177421306343426/photo/1\n",
       "2       https://twitter.com/dog_rates/status/891815181378084864/photo/1\n",
       "3       https://twitter.com/dog_rates/status/891689557279858688/photo/1\n",
       "4       https://twitter.com/dog_rates/status/891327558926688256/photo/1\n",
       "                                     ...                               \n",
       "2351    https://twitter.com/dog_rates/status/666049248165822465/photo/1\n",
       "2352    https://twitter.com/dog_rates/status/666044226329800704/photo/1\n",
       "2353    https://twitter.com/dog_rates/status/666033412701032449/photo/1\n",
       "2354    https://twitter.com/dog_rates/status/666029285002620928/photo/1\n",
       "2355    https://twitter.com/dog_rates/status/666020888022790149/photo/1\n",
       "Name: expanded_urls, Length: 2097, dtype: object"
      ]
     },
     "execution_count": 113,
     "metadata": {},
     "output_type": "execute_result"
    }
   ],
   "source": [
    "df2.expanded_urls"
   ]
  },
  {
   "cell_type": "markdown",
   "metadata": {},
   "source": [
    "### Issue #2: there are cells in the expanded_urls column with null values"
   ]
  },
  {
   "cell_type": "markdown",
   "metadata": {},
   "source": [
    "#### Define:\n",
    "Remove rows that do not have image url"
   ]
  },
  {
   "cell_type": "markdown",
   "metadata": {},
   "source": [
    "#### Code:"
   ]
  },
  {
   "cell_type": "code",
   "execution_count": 114,
   "metadata": {},
   "outputs": [],
   "source": [
    "df2.dropna(axis=0, subset=['expanded_urls'], inplace=True)\n"
   ]
  },
  {
   "cell_type": "markdown",
   "metadata": {},
   "source": [
    "#### Test:"
   ]
  },
  {
   "cell_type": "code",
   "execution_count": 115,
   "metadata": {},
   "outputs": [
    {
     "name": "stdout",
     "output_type": "stream",
     "text": [
      "<class 'pandas.core.frame.DataFrame'>\n",
      "Int64Index: 1899 entries, 0 to 2355\n",
      "Data columns (total 19 columns):\n",
      " #   Column                      Non-Null Count  Dtype  \n",
      "---  ------                      --------------  -----  \n",
      " 0   tweet_id                    1899 non-null   int64  \n",
      " 1   in_reply_to_status_id       0 non-null      float64\n",
      " 2   in_reply_to_user_id         0 non-null      float64\n",
      " 3   timestamp                   1899 non-null   object \n",
      " 4   source                      1899 non-null   object \n",
      " 5   text                        1899 non-null   object \n",
      " 6   retweeted_status_id         0 non-null      float64\n",
      " 7   retweeted_status_user_id    0 non-null      float64\n",
      " 8   retweeted_status_timestamp  0 non-null      object \n",
      " 9   expanded_urls               1899 non-null   object \n",
      " 10  rating_numerator            1899 non-null   int64  \n",
      " 11  rating_denominator          1899 non-null   int64  \n",
      " 12  name                        1899 non-null   object \n",
      " 13  doggo                       1899 non-null   object \n",
      " 14  floofer                     1899 non-null   object \n",
      " 15  pupper                      1899 non-null   object \n",
      " 16  puppo                       1899 non-null   object \n",
      " 17  retweet_count               1899 non-null   float64\n",
      " 18  favorite_count              1899 non-null   float64\n",
      "dtypes: float64(6), int64(3), object(10)\n",
      "memory usage: 296.7+ KB\n"
     ]
    }
   ],
   "source": [
    "df2.info()\n"
   ]
  },
  {
   "cell_type": "markdown",
   "metadata": {},
   "source": [
    "### Issue #3: some cells in the text column contain hashtags and mentions"
   ]
  },
  {
   "cell_type": "markdown",
   "metadata": {},
   "source": [
    "#### Define\n",
    "Remove any tag and mention from the text column"
   ]
  },
  {
   "cell_type": "markdown",
   "metadata": {},
   "source": [
    "#### Code"
   ]
  },
  {
   "cell_type": "code",
   "execution_count": 116,
   "metadata": {},
   "outputs": [],
   "source": [
    "def remove_tags(x):\n",
    "    \"\"\"Remove hashtags and mentions from text\"\"\"\n",
    "    \n",
    "    x = str(x)\n",
    "    tags = r'\\B#\\w*[a-zA-Z]+\\w*|RT\\s\\B#\\w*[a-zA-Z]+\\w*|RT\\s\\B#\\w*[a-zA-Z]+\\w*\\:|\\B#\\w*[a-zA-Z]+\\w*\\:'\n",
    "    mentions = r'\\B@\\w*[a-zA-Z]+\\w*|RT\\s\\B@\\w*[a-zA-Z]+\\w*|RT\\s\\B@\\w*[a-zA-Z]+\\w*\\:|\\B@\\w*[a-zA-Z]+\\w*\\:'\n",
    "    tags_match = re.findall(tags, x, re.IGNORECASE)\n",
    "    mentions_match = re.findall(mentions, x, re.IGNORECASE)\n",
    "\n",
    "    for mention in mentions_match:\n",
    "        x = x.replace(mention, '')\n",
    "\n",
    "    for tag in tags_match:\n",
    "        x = x.replace(tag, '')\n",
    "\n",
    "    return x\n",
    "\n",
    "\n",
    "df2.text = df2.text.apply(lambda x: remove_tags(x))\n",
    "\n"
   ]
  },
  {
   "cell_type": "markdown",
   "metadata": {},
   "source": [
    "#### Test"
   ]
  },
  {
   "cell_type": "code",
   "execution_count": 117,
   "metadata": {},
   "outputs": [
    {
     "data": {
      "text/plain": [
       "0                                                            This is Phineas. He's a mystical boy. Only ever appears in the hole of a donut. 13/10 https://t.co/MgUWQ76dJU\n",
       "1       This is Tilly. She's just checking pup on you. Hopes you're doing ok. If not, she's available for pats, snugs, boops, the whole bit. 13/10 https://t.co/0Xxu71qeIV\n",
       "2                        This is Archie. He is a rare Norwegian Pouncing Corgo. Lives in the tall grass. You never know when one may strike. 12/10 https://t.co/wUnZnhtVJB\n",
       "3                                                                  This is Darla. She commenced a snooze mid meal. 13/10 happens to the best of us https://t.co/tD36da7qLQ\n",
       "4                This is Franklin. He would like you to stop calling him \"cute.\" He is a very fierce shark and should be respected as such. 12/10  https://t.co/AtUZn91f7f\n",
       "                                                                                       ...                                                                                \n",
       "2351                                              Here we have a 1949 1st generation vulpix. Enjoys sweat tea and Fox News. Cannot be phased. 5/10 https://t.co/4B7cOc1EDq\n",
       "2352                             This is a purebred Piers Morgan. Loves to Netflix and chill. Always looks like he forgot to unplug the iron. 6/10 https://t.co/DWnyCjf2mx\n",
       "2353                                    Here is a very happy pup. Big fan of well-maintained decks. Just look at that tongue. 9/10 would cuddle af https://t.co/y671yMhoiR\n",
       "2354                           This is a western brown Mitsubishi terrier. Upset about leaf. Actually 2 dogs here. 7/10 would walk the shit out of https://t.co/r7mOb2m0UI\n",
       "2355                                   Here we have a Japanese Irish Setter. Lost eye in Vietnam (?). Big fan of relaxing on stair. 8/10 would pet https://t.co/BLDqew2Ijj\n",
       "Name: text, Length: 1899, dtype: object"
      ]
     },
     "execution_count": 117,
     "metadata": {},
     "output_type": "execute_result"
    }
   ],
   "source": [
    "df2.text"
   ]
  },
  {
   "cell_type": "markdown",
   "metadata": {},
   "source": [
    "### Issue #4: the timestamp column has unnecessary characters: +0000\n"
   ]
  },
  {
   "cell_type": "markdown",
   "metadata": {},
   "source": [
    "#### Define:\n",
    "Remove the trailing \"+0000\" from the timestamp column"
   ]
  },
  {
   "cell_type": "markdown",
   "metadata": {},
   "source": [
    "#### Code"
   ]
  },
  {
   "cell_type": "code",
   "execution_count": 118,
   "metadata": {},
   "outputs": [],
   "source": [
    "def clean_timestamp(x):\n",
    "    \"\"\"Remove unnecessary characters from the timestamp column\"\"\"\n",
    "    x = str(x)\n",
    "    x = x.replace('+0000', '')\n",
    "\n",
    "    return x\n",
    "\n",
    "df2.timestamp = df2.timestamp.apply(lambda x: clean_timestamp(x))"
   ]
  },
  {
   "cell_type": "markdown",
   "metadata": {},
   "source": [
    "#### Test"
   ]
  },
  {
   "cell_type": "code",
   "execution_count": 119,
   "metadata": {},
   "outputs": [
    {
     "data": {
      "text/plain": [
       "0       2017-08-01 16:23:56 \n",
       "1       2017-08-01 00:17:27 \n",
       "2       2017-07-31 00:18:03 \n",
       "3       2017-07-30 15:58:51 \n",
       "4       2017-07-29 16:00:24 \n",
       "                ...         \n",
       "2351    2015-11-16 00:24:50 \n",
       "2352    2015-11-16 00:04:52 \n",
       "2353    2015-11-15 23:21:54 \n",
       "2354    2015-11-15 23:05:30 \n",
       "2355    2015-11-15 22:32:08 \n",
       "Name: timestamp, Length: 1899, dtype: object"
      ]
     },
     "execution_count": 119,
     "metadata": {},
     "output_type": "execute_result"
    }
   ],
   "source": [
    "df2.timestamp"
   ]
  },
  {
   "cell_type": "markdown",
   "metadata": {},
   "source": [
    "### Issue #5: the data type of the tweet_id column is int which is supposed to be object"
   ]
  },
  {
   "cell_type": "markdown",
   "metadata": {},
   "source": [
    "#### Define\n",
    "Convert the type of tweet_id column to string "
   ]
  },
  {
   "cell_type": "markdown",
   "metadata": {},
   "source": [
    "#### Code"
   ]
  },
  {
   "cell_type": "code",
   "execution_count": 120,
   "metadata": {},
   "outputs": [
    {
     "data": {
      "text/plain": [
       "dtype('int64')"
      ]
     },
     "execution_count": 120,
     "metadata": {},
     "output_type": "execute_result"
    }
   ],
   "source": [
    "df2.tweet_id.dtype"
   ]
  },
  {
   "cell_type": "code",
   "execution_count": 121,
   "metadata": {},
   "outputs": [],
   "source": [
    "df2.tweet_id = df2.tweet_id.astype('object')"
   ]
  },
  {
   "cell_type": "markdown",
   "metadata": {},
   "source": [
    "#### Test"
   ]
  },
  {
   "cell_type": "code",
   "execution_count": 122,
   "metadata": {},
   "outputs": [
    {
     "data": {
      "text/plain": [
       "dtype('O')"
      ]
     },
     "execution_count": 122,
     "metadata": {},
     "output_type": "execute_result"
    }
   ],
   "source": [
    "df2.tweet_id.dtype\n"
   ]
  },
  {
   "cell_type": "code",
   "execution_count": 123,
   "metadata": {},
   "outputs": [
    {
     "name": "stdout",
     "output_type": "stream",
     "text": [
      "<class 'pandas.core.frame.DataFrame'>\n",
      "Int64Index: 1899 entries, 0 to 2355\n",
      "Data columns (total 19 columns):\n",
      " #   Column                      Non-Null Count  Dtype  \n",
      "---  ------                      --------------  -----  \n",
      " 0   tweet_id                    1899 non-null   object \n",
      " 1   in_reply_to_status_id       0 non-null      float64\n",
      " 2   in_reply_to_user_id         0 non-null      float64\n",
      " 3   timestamp                   1899 non-null   object \n",
      " 4   source                      1899 non-null   object \n",
      " 5   text                        1899 non-null   object \n",
      " 6   retweeted_status_id         0 non-null      float64\n",
      " 7   retweeted_status_user_id    0 non-null      float64\n",
      " 8   retweeted_status_timestamp  0 non-null      object \n",
      " 9   expanded_urls               1899 non-null   object \n",
      " 10  rating_numerator            1899 non-null   int64  \n",
      " 11  rating_denominator          1899 non-null   int64  \n",
      " 12  name                        1899 non-null   object \n",
      " 13  doggo                       1899 non-null   object \n",
      " 14  floofer                     1899 non-null   object \n",
      " 15  pupper                      1899 non-null   object \n",
      " 16  puppo                       1899 non-null   object \n",
      " 17  retweet_count               1899 non-null   float64\n",
      " 18  favorite_count              1899 non-null   float64\n",
      "dtypes: float64(6), int64(2), object(11)\n",
      "memory usage: 296.7+ KB\n"
     ]
    }
   ],
   "source": [
    "df2.info()"
   ]
  },
  {
   "cell_type": "markdown",
   "metadata": {},
   "source": [
    "### Issue #6: the data type of the timestamp column is supposed to be datetime, not object"
   ]
  },
  {
   "cell_type": "markdown",
   "metadata": {},
   "source": [
    "#### Define\n",
    "Convert the data type of the timestamp column from object to datetime"
   ]
  },
  {
   "cell_type": "markdown",
   "metadata": {},
   "source": [
    "#### Code"
   ]
  },
  {
   "cell_type": "code",
   "execution_count": 124,
   "metadata": {},
   "outputs": [
    {
     "data": {
      "text/plain": [
       "dtype('O')"
      ]
     },
     "execution_count": 124,
     "metadata": {},
     "output_type": "execute_result"
    }
   ],
   "source": [
    "df2.timestamp.dtype"
   ]
  },
  {
   "cell_type": "code",
   "execution_count": 125,
   "metadata": {},
   "outputs": [],
   "source": [
    "df2.timestamp = df2.timestamp.astype('datetime64')\n"
   ]
  },
  {
   "cell_type": "markdown",
   "metadata": {},
   "source": [
    "#### Test"
   ]
  },
  {
   "cell_type": "code",
   "execution_count": 126,
   "metadata": {},
   "outputs": [
    {
     "data": {
      "text/plain": [
       "dtype('<M8[ns]')"
      ]
     },
     "execution_count": 126,
     "metadata": {},
     "output_type": "execute_result"
    }
   ],
   "source": [
    "df2.timestamp.dtype"
   ]
  },
  {
   "cell_type": "code",
   "execution_count": 127,
   "metadata": {},
   "outputs": [
    {
     "name": "stdout",
     "output_type": "stream",
     "text": [
      "<class 'pandas.core.frame.DataFrame'>\n",
      "Int64Index: 1899 entries, 0 to 2355\n",
      "Data columns (total 19 columns):\n",
      " #   Column                      Non-Null Count  Dtype         \n",
      "---  ------                      --------------  -----         \n",
      " 0   tweet_id                    1899 non-null   object        \n",
      " 1   in_reply_to_status_id       0 non-null      float64       \n",
      " 2   in_reply_to_user_id         0 non-null      float64       \n",
      " 3   timestamp                   1899 non-null   datetime64[ns]\n",
      " 4   source                      1899 non-null   object        \n",
      " 5   text                        1899 non-null   object        \n",
      " 6   retweeted_status_id         0 non-null      float64       \n",
      " 7   retweeted_status_user_id    0 non-null      float64       \n",
      " 8   retweeted_status_timestamp  0 non-null      object        \n",
      " 9   expanded_urls               1899 non-null   object        \n",
      " 10  rating_numerator            1899 non-null   int64         \n",
      " 11  rating_denominator          1899 non-null   int64         \n",
      " 12  name                        1899 non-null   object        \n",
      " 13  doggo                       1899 non-null   object        \n",
      " 14  floofer                     1899 non-null   object        \n",
      " 15  pupper                      1899 non-null   object        \n",
      " 16  puppo                       1899 non-null   object        \n",
      " 17  retweet_count               1899 non-null   float64       \n",
      " 18  favorite_count              1899 non-null   float64       \n",
      "dtypes: datetime64[ns](1), float64(6), int64(2), object(10)\n",
      "memory usage: 296.7+ KB\n"
     ]
    }
   ],
   "source": [
    "df2.info()"
   ]
  },
  {
   "cell_type": "markdown",
   "metadata": {},
   "source": [
    "### Issue #7: the cells in the text column contain short images urls"
   ]
  },
  {
   "cell_type": "markdown",
   "metadata": {},
   "source": [
    "#### Define\n",
    "Delete short image urls from the text column"
   ]
  },
  {
   "cell_type": "markdown",
   "metadata": {},
   "source": [
    "#### Code"
   ]
  },
  {
   "cell_type": "code",
   "execution_count": 128,
   "metadata": {},
   "outputs": [],
   "source": [
    "#function to get short_urls form a text\n",
    "def extract_short_url(x):\n",
    "    x = str(x)\n",
    "    return 'https' + str(x.split('https')[1]) if 'https' in x else None\n",
    "\n",
    "\n",
    "# df2['short_url'] = df2.text.apply(lambda x: extract_short_url(x))\n"
   ]
  },
  {
   "cell_type": "code",
   "execution_count": 129,
   "metadata": {},
   "outputs": [],
   "source": [
    "def delete_url_from_text(x):\n",
    "    \"\"\"delete url in text\"\"\"\n",
    "    x = str(x)\n",
    "    if short_url := extract_short_url(x):\n",
    "        return x.replace(short_url, '')\n",
    "    return None\n",
    "\n",
    "df2.text = df2.text.apply(lambda x: delete_url_from_text(x))"
   ]
  },
  {
   "cell_type": "markdown",
   "metadata": {},
   "source": [
    "#### Test"
   ]
  },
  {
   "cell_type": "code",
   "execution_count": 130,
   "metadata": {},
   "outputs": [
    {
     "data": {
      "text/plain": [
       "0                                                            This is Phineas. He's a mystical boy. Only ever appears in the hole of a donut. 13/10 \n",
       "1       This is Tilly. She's just checking pup on you. Hopes you're doing ok. If not, she's available for pats, snugs, boops, the whole bit. 13/10 \n",
       "2                        This is Archie. He is a rare Norwegian Pouncing Corgo. Lives in the tall grass. You never know when one may strike. 12/10 \n",
       "3                                                                  This is Darla. She commenced a snooze mid meal. 13/10 happens to the best of us \n",
       "4                This is Franklin. He would like you to stop calling him \"cute.\" He is a very fierce shark and should be respected as such. 12/10  \n",
       "                                                                           ...                                                                     \n",
       "2351                                              Here we have a 1949 1st generation vulpix. Enjoys sweat tea and Fox News. Cannot be phased. 5/10 \n",
       "2352                             This is a purebred Piers Morgan. Loves to Netflix and chill. Always looks like he forgot to unplug the iron. 6/10 \n",
       "2353                                    Here is a very happy pup. Big fan of well-maintained decks. Just look at that tongue. 9/10 would cuddle af \n",
       "2354                           This is a western brown Mitsubishi terrier. Upset about leaf. Actually 2 dogs here. 7/10 would walk the shit out of \n",
       "2355                                   Here we have a Japanese Irish Setter. Lost eye in Vietnam (?). Big fan of relaxing on stair. 8/10 would pet \n",
       "Name: text, Length: 1899, dtype: object"
      ]
     },
     "execution_count": 130,
     "metadata": {},
     "output_type": "execute_result"
    }
   ],
   "source": [
    "df2.text"
   ]
  },
  {
   "cell_type": "markdown",
   "metadata": {},
   "source": [
    "### Issue #8: the text columns contains ratings"
   ]
  },
  {
   "cell_type": "markdown",
   "metadata": {},
   "source": [
    "#### Define\n",
    "Remove ratings from the text columns"
   ]
  },
  {
   "cell_type": "markdown",
   "metadata": {},
   "source": [
    "#### Code"
   ]
  },
  {
   "cell_type": "code",
   "execution_count": 131,
   "metadata": {},
   "outputs": [],
   "source": [
    "def remove_ratings(x):\n",
    "    \"\"\"Delete ratings from text\"\"\"\n",
    "    x = str(x)\n",
    "    ind = x.find('/')\n",
    "    rating = x[ind-2:ind+3]\n",
    "\n",
    "    return x.replace(rating, '')\n",
    "\n",
    "\n",
    "df2.text = df2.text.apply(lambda x: remove_ratings(x))\n"
   ]
  },
  {
   "cell_type": "markdown",
   "metadata": {},
   "source": [
    "#### Test"
   ]
  },
  {
   "cell_type": "code",
   "execution_count": 132,
   "metadata": {},
   "outputs": [
    {
     "data": {
      "text/plain": [
       "0                                                            This is Phineas. He's a mystical boy. Only ever appears in the hole of a donut.  \n",
       "1       This is Tilly. She's just checking pup on you. Hopes you're doing ok. If not, she's available for pats, snugs, boops, the whole bit.  \n",
       "2                        This is Archie. He is a rare Norwegian Pouncing Corgo. Lives in the tall grass. You never know when one may strike.  \n",
       "3                                                                  This is Darla. She commenced a snooze mid meal.  happens to the best of us \n",
       "4                This is Franklin. He would like you to stop calling him \"cute.\" He is a very fierce shark and should be respected as such.   \n",
       "                                                                         ...                                                                  \n",
       "2351                                              Here we have a 1949 1st generation vulpix. Enjoys sweat tea and Fox News. Cannot be phased. \n",
       "2352                             This is a purebred Piers Morgan. Loves to Netflix and chill. Always looks like he forgot to unplug the iron. \n",
       "2353                                    Here is a very happy pup. Big fan of well-maintained decks. Just look at that tongue. would cuddle af \n",
       "2354                           This is a western brown Mitsubishi terrier. Upset about leaf. Actually 2 dogs here. would walk the shit out of \n",
       "2355                                   Here we have a Japanese Irish Setter. Lost eye in Vietnam (?). Big fan of relaxing on stair. would pet \n",
       "Name: text, Length: 1899, dtype: object"
      ]
     },
     "execution_count": 132,
     "metadata": {},
     "output_type": "execute_result"
    }
   ],
   "source": [
    "df2.text"
   ]
  },
  {
   "cell_type": "markdown",
   "metadata": {},
   "source": [
    "### Issue #9: in the name column, the abscence of value is represented by the string 'None'"
   ]
  },
  {
   "cell_type": "markdown",
   "metadata": {},
   "source": [
    "#### Define\n",
    "Replace the string 'None' with the python None type in the name column"
   ]
  },
  {
   "cell_type": "markdown",
   "metadata": {},
   "source": [
    "#### Code"
   ]
  },
  {
   "cell_type": "code",
   "execution_count": 133,
   "metadata": {},
   "outputs": [
    {
     "data": {
      "text/html": [
       "<div>\n",
       "<style scoped>\n",
       "    .dataframe tbody tr th:only-of-type {\n",
       "        vertical-align: middle;\n",
       "    }\n",
       "\n",
       "    .dataframe tbody tr th {\n",
       "        vertical-align: top;\n",
       "    }\n",
       "\n",
       "    .dataframe thead th {\n",
       "        text-align: right;\n",
       "    }\n",
       "</style>\n",
       "<table border=\"1\" class=\"dataframe\">\n",
       "  <thead>\n",
       "    <tr style=\"text-align: right;\">\n",
       "      <th></th>\n",
       "      <th>tweet_id</th>\n",
       "      <th>in_reply_to_status_id</th>\n",
       "      <th>in_reply_to_user_id</th>\n",
       "      <th>timestamp</th>\n",
       "      <th>source</th>\n",
       "      <th>text</th>\n",
       "      <th>retweeted_status_id</th>\n",
       "      <th>retweeted_status_user_id</th>\n",
       "      <th>retweeted_status_timestamp</th>\n",
       "      <th>expanded_urls</th>\n",
       "      <th>rating_numerator</th>\n",
       "      <th>rating_denominator</th>\n",
       "      <th>name</th>\n",
       "      <th>doggo</th>\n",
       "      <th>floofer</th>\n",
       "      <th>pupper</th>\n",
       "      <th>puppo</th>\n",
       "      <th>retweet_count</th>\n",
       "      <th>favorite_count</th>\n",
       "    </tr>\n",
       "  </thead>\n",
       "  <tbody>\n",
       "    <tr>\n",
       "      <th>5</th>\n",
       "      <td>891087950875897856</td>\n",
       "      <td>NaN</td>\n",
       "      <td>NaN</td>\n",
       "      <td>2017-07-29 00:08:17</td>\n",
       "      <td>&lt;a href=\"http://twitter.com/download/iphone\" rel=\"nofollow\"&gt;Twitter for iPhone&lt;/a&gt;</td>\n",
       "      <td>Here we have a majestic great white breaching off South Africa's coast. Absolutely h*ckin breathtaking.  (IG: tucker_marlo)</td>\n",
       "      <td>NaN</td>\n",
       "      <td>NaN</td>\n",
       "      <td>NaN</td>\n",
       "      <td>https://twitter.com/dog_rates/status/891087950875897856/photo/1</td>\n",
       "      <td>13</td>\n",
       "      <td>10</td>\n",
       "      <td>None</td>\n",
       "      <td>None</td>\n",
       "      <td>None</td>\n",
       "      <td>None</td>\n",
       "      <td>None</td>\n",
       "      <td>3261.0</td>\n",
       "      <td>20562.0</td>\n",
       "    </tr>\n",
       "    <tr>\n",
       "      <th>7</th>\n",
       "      <td>890729181411237888</td>\n",
       "      <td>NaN</td>\n",
       "      <td>NaN</td>\n",
       "      <td>2017-07-28 00:22:40</td>\n",
       "      <td>&lt;a href=\"http://twitter.com/download/iphone\" rel=\"nofollow\"&gt;Twitter for iPhone&lt;/a&gt;</td>\n",
       "      <td>When you watch your owner call another dog a good boy but then they turn back to you and say you're a great boy.</td>\n",
       "      <td>NaN</td>\n",
       "      <td>NaN</td>\n",
       "      <td>NaN</td>\n",
       "      <td>https://twitter.com/dog_rates/status/890729181411237888/photo/1</td>\n",
       "      <td>13</td>\n",
       "      <td>10</td>\n",
       "      <td>None</td>\n",
       "      <td>None</td>\n",
       "      <td>None</td>\n",
       "      <td>None</td>\n",
       "      <td>None</td>\n",
       "      <td>16716.0</td>\n",
       "      <td>56848.0</td>\n",
       "    </tr>\n",
       "    <tr>\n",
       "      <th>12</th>\n",
       "      <td>889665388333682689</td>\n",
       "      <td>NaN</td>\n",
       "      <td>NaN</td>\n",
       "      <td>2017-07-25 01:55:32</td>\n",
       "      <td>&lt;a href=\"http://twitter.com/download/iphone\" rel=\"nofollow\"&gt;Twitter for iPhone&lt;/a&gt;</td>\n",
       "      <td>Here's a puppo that seems to be on the fence about something haha no but seriously someone help her.</td>\n",
       "      <td>NaN</td>\n",
       "      <td>NaN</td>\n",
       "      <td>NaN</td>\n",
       "      <td>https://twitter.com/dog_rates/status/889665388333682689/photo/1</td>\n",
       "      <td>13</td>\n",
       "      <td>10</td>\n",
       "      <td>None</td>\n",
       "      <td>None</td>\n",
       "      <td>None</td>\n",
       "      <td>None</td>\n",
       "      <td>puppo</td>\n",
       "      <td>8538.0</td>\n",
       "      <td>38818.0</td>\n",
       "    </tr>\n",
       "    <tr>\n",
       "      <th>25</th>\n",
       "      <td>887101392804085760</td>\n",
       "      <td>NaN</td>\n",
       "      <td>NaN</td>\n",
       "      <td>2017-07-18 00:07:08</td>\n",
       "      <td>&lt;a href=\"http://twitter.com/download/iphone\" rel=\"nofollow\"&gt;Twitter for iPhone&lt;/a&gt;</td>\n",
       "      <td>This... is a Jubilant Antarctic House Bear. We only rate dogs. Please only send dogs. Thank you...  would suffocate in floof</td>\n",
       "      <td>NaN</td>\n",
       "      <td>NaN</td>\n",
       "      <td>NaN</td>\n",
       "      <td>https://twitter.com/dog_rates/status/887101392804085760/photo/1</td>\n",
       "      <td>12</td>\n",
       "      <td>10</td>\n",
       "      <td>None</td>\n",
       "      <td>None</td>\n",
       "      <td>None</td>\n",
       "      <td>None</td>\n",
       "      <td>None</td>\n",
       "      <td>6167.0</td>\n",
       "      <td>31061.0</td>\n",
       "    </tr>\n",
       "    <tr>\n",
       "      <th>37</th>\n",
       "      <td>885167619883638784</td>\n",
       "      <td>NaN</td>\n",
       "      <td>NaN</td>\n",
       "      <td>2017-07-12 16:03:00</td>\n",
       "      <td>&lt;a href=\"http://twitter.com/download/iphone\" rel=\"nofollow\"&gt;Twitter for iPhone&lt;/a&gt;</td>\n",
       "      <td>Here we have a corgi undercover as a malamute. Pawbably doing important investigative work. Zero control over tongue happenings.</td>\n",
       "      <td>NaN</td>\n",
       "      <td>NaN</td>\n",
       "      <td>NaN</td>\n",
       "      <td>https://twitter.com/dog_rates/status/885167619883638784/photo/1</td>\n",
       "      <td>13</td>\n",
       "      <td>10</td>\n",
       "      <td>None</td>\n",
       "      <td>None</td>\n",
       "      <td>None</td>\n",
       "      <td>None</td>\n",
       "      <td>None</td>\n",
       "      <td>4556.0</td>\n",
       "      <td>22367.0</td>\n",
       "    </tr>\n",
       "    <tr>\n",
       "      <th>...</th>\n",
       "      <td>...</td>\n",
       "      <td>...</td>\n",
       "      <td>...</td>\n",
       "      <td>...</td>\n",
       "      <td>...</td>\n",
       "      <td>...</td>\n",
       "      <td>...</td>\n",
       "      <td>...</td>\n",
       "      <td>...</td>\n",
       "      <td>...</td>\n",
       "      <td>...</td>\n",
       "      <td>...</td>\n",
       "      <td>...</td>\n",
       "      <td>...</td>\n",
       "      <td>...</td>\n",
       "      <td>...</td>\n",
       "      <td>...</td>\n",
       "      <td>...</td>\n",
       "      <td>...</td>\n",
       "    </tr>\n",
       "    <tr>\n",
       "      <th>2342</th>\n",
       "      <td>666082916733198337</td>\n",
       "      <td>NaN</td>\n",
       "      <td>NaN</td>\n",
       "      <td>2015-11-16 02:38:37</td>\n",
       "      <td>&lt;a href=\"http://twitter.com/download/iphone\" rel=\"nofollow\"&gt;Twitter for iPhone&lt;/a&gt;</td>\n",
       "      <td>Here we have a well-established sunblockerspaniel. Lost his other flip-flop. not very waterproof</td>\n",
       "      <td>NaN</td>\n",
       "      <td>NaN</td>\n",
       "      <td>NaN</td>\n",
       "      <td>https://twitter.com/dog_rates/status/666082916733198337/photo/1</td>\n",
       "      <td>6</td>\n",
       "      <td>10</td>\n",
       "      <td>None</td>\n",
       "      <td>None</td>\n",
       "      <td>None</td>\n",
       "      <td>None</td>\n",
       "      <td>None</td>\n",
       "      <td>47.0</td>\n",
       "      <td>121.0</td>\n",
       "    </tr>\n",
       "    <tr>\n",
       "      <th>2343</th>\n",
       "      <td>666073100786774016</td>\n",
       "      <td>NaN</td>\n",
       "      <td>NaN</td>\n",
       "      <td>2015-11-16 01:59:36</td>\n",
       "      <td>&lt;a href=\"http://twitter.com/download/iphone\" rel=\"nofollow\"&gt;Twitter for iPhone&lt;/a&gt;</td>\n",
       "      <td>Let's hope this flight isn't Malaysian (lol). What a dog! Almost completely camouflaged.  I trust this pilot</td>\n",
       "      <td>NaN</td>\n",
       "      <td>NaN</td>\n",
       "      <td>NaN</td>\n",
       "      <td>https://twitter.com/dog_rates/status/666073100786774016/photo/1</td>\n",
       "      <td>10</td>\n",
       "      <td>10</td>\n",
       "      <td>None</td>\n",
       "      <td>None</td>\n",
       "      <td>None</td>\n",
       "      <td>None</td>\n",
       "      <td>None</td>\n",
       "      <td>174.0</td>\n",
       "      <td>335.0</td>\n",
       "    </tr>\n",
       "    <tr>\n",
       "      <th>2344</th>\n",
       "      <td>666071193221509120</td>\n",
       "      <td>NaN</td>\n",
       "      <td>NaN</td>\n",
       "      <td>2015-11-16 01:52:02</td>\n",
       "      <td>&lt;a href=\"http://twitter.com/download/iphone\" rel=\"nofollow\"&gt;Twitter for iPhone&lt;/a&gt;</td>\n",
       "      <td>Here we have a northern speckled Rhododendron. Much sass. Gives 0 fucks. Good tongue. would caress sensually</td>\n",
       "      <td>NaN</td>\n",
       "      <td>NaN</td>\n",
       "      <td>NaN</td>\n",
       "      <td>https://twitter.com/dog_rates/status/666071193221509120/photo/1</td>\n",
       "      <td>9</td>\n",
       "      <td>10</td>\n",
       "      <td>None</td>\n",
       "      <td>None</td>\n",
       "      <td>None</td>\n",
       "      <td>None</td>\n",
       "      <td>None</td>\n",
       "      <td>67.0</td>\n",
       "      <td>154.0</td>\n",
       "    </tr>\n",
       "    <tr>\n",
       "      <th>2351</th>\n",
       "      <td>666049248165822465</td>\n",
       "      <td>NaN</td>\n",
       "      <td>NaN</td>\n",
       "      <td>2015-11-16 00:24:50</td>\n",
       "      <td>&lt;a href=\"http://twitter.com/download/iphone\" rel=\"nofollow\"&gt;Twitter for iPhone&lt;/a&gt;</td>\n",
       "      <td>Here we have a 1949 1st generation vulpix. Enjoys sweat tea and Fox News. Cannot be phased.</td>\n",
       "      <td>NaN</td>\n",
       "      <td>NaN</td>\n",
       "      <td>NaN</td>\n",
       "      <td>https://twitter.com/dog_rates/status/666049248165822465/photo/1</td>\n",
       "      <td>5</td>\n",
       "      <td>10</td>\n",
       "      <td>None</td>\n",
       "      <td>None</td>\n",
       "      <td>None</td>\n",
       "      <td>None</td>\n",
       "      <td>None</td>\n",
       "      <td>41.0</td>\n",
       "      <td>111.0</td>\n",
       "    </tr>\n",
       "    <tr>\n",
       "      <th>2355</th>\n",
       "      <td>666020888022790149</td>\n",
       "      <td>NaN</td>\n",
       "      <td>NaN</td>\n",
       "      <td>2015-11-15 22:32:08</td>\n",
       "      <td>&lt;a href=\"http://twitter.com/download/iphone\" rel=\"nofollow\"&gt;Twitter for iPhone&lt;/a&gt;</td>\n",
       "      <td>Here we have a Japanese Irish Setter. Lost eye in Vietnam (?). Big fan of relaxing on stair. would pet</td>\n",
       "      <td>NaN</td>\n",
       "      <td>NaN</td>\n",
       "      <td>NaN</td>\n",
       "      <td>https://twitter.com/dog_rates/status/666020888022790149/photo/1</td>\n",
       "      <td>8</td>\n",
       "      <td>10</td>\n",
       "      <td>None</td>\n",
       "      <td>None</td>\n",
       "      <td>None</td>\n",
       "      <td>None</td>\n",
       "      <td>None</td>\n",
       "      <td>532.0</td>\n",
       "      <td>2535.0</td>\n",
       "    </tr>\n",
       "  </tbody>\n",
       "</table>\n",
       "<p>490 rows × 19 columns</p>\n",
       "</div>"
      ],
      "text/plain": [
       "                tweet_id  in_reply_to_status_id  in_reply_to_user_id  \\\n",
       "5     891087950875897856                    NaN                  NaN   \n",
       "7     890729181411237888                    NaN                  NaN   \n",
       "12    889665388333682689                    NaN                  NaN   \n",
       "25    887101392804085760                    NaN                  NaN   \n",
       "37    885167619883638784                    NaN                  NaN   \n",
       "...                  ...                    ...                  ...   \n",
       "2342  666082916733198337                    NaN                  NaN   \n",
       "2343  666073100786774016                    NaN                  NaN   \n",
       "2344  666071193221509120                    NaN                  NaN   \n",
       "2351  666049248165822465                    NaN                  NaN   \n",
       "2355  666020888022790149                    NaN                  NaN   \n",
       "\n",
       "               timestamp  \\\n",
       "5    2017-07-29 00:08:17   \n",
       "7    2017-07-28 00:22:40   \n",
       "12   2017-07-25 01:55:32   \n",
       "25   2017-07-18 00:07:08   \n",
       "37   2017-07-12 16:03:00   \n",
       "...                  ...   \n",
       "2342 2015-11-16 02:38:37   \n",
       "2343 2015-11-16 01:59:36   \n",
       "2344 2015-11-16 01:52:02   \n",
       "2351 2015-11-16 00:24:50   \n",
       "2355 2015-11-15 22:32:08   \n",
       "\n",
       "                                                                                  source  \\\n",
       "5     <a href=\"http://twitter.com/download/iphone\" rel=\"nofollow\">Twitter for iPhone</a>   \n",
       "7     <a href=\"http://twitter.com/download/iphone\" rel=\"nofollow\">Twitter for iPhone</a>   \n",
       "12    <a href=\"http://twitter.com/download/iphone\" rel=\"nofollow\">Twitter for iPhone</a>   \n",
       "25    <a href=\"http://twitter.com/download/iphone\" rel=\"nofollow\">Twitter for iPhone</a>   \n",
       "37    <a href=\"http://twitter.com/download/iphone\" rel=\"nofollow\">Twitter for iPhone</a>   \n",
       "...                                                                                  ...   \n",
       "2342  <a href=\"http://twitter.com/download/iphone\" rel=\"nofollow\">Twitter for iPhone</a>   \n",
       "2343  <a href=\"http://twitter.com/download/iphone\" rel=\"nofollow\">Twitter for iPhone</a>   \n",
       "2344  <a href=\"http://twitter.com/download/iphone\" rel=\"nofollow\">Twitter for iPhone</a>   \n",
       "2351  <a href=\"http://twitter.com/download/iphone\" rel=\"nofollow\">Twitter for iPhone</a>   \n",
       "2355  <a href=\"http://twitter.com/download/iphone\" rel=\"nofollow\">Twitter for iPhone</a>   \n",
       "\n",
       "                                                                                                                                    text  \\\n",
       "5          Here we have a majestic great white breaching off South Africa's coast. Absolutely h*ckin breathtaking.  (IG: tucker_marlo)     \n",
       "7                     When you watch your owner call another dog a good boy but then they turn back to you and say you're a great boy.     \n",
       "12                                Here's a puppo that seems to be on the fence about something haha no but seriously someone help her.     \n",
       "25         This... is a Jubilant Antarctic House Bear. We only rate dogs. Please only send dogs. Thank you...  would suffocate in floof    \n",
       "37    Here we have a corgi undercover as a malamute. Pawbably doing important investigative work. Zero control over tongue happenings.     \n",
       "...                                                                                                                                  ...   \n",
       "2342                                   Here we have a well-established sunblockerspaniel. Lost his other flip-flop. not very waterproof    \n",
       "2343                       Let's hope this flight isn't Malaysian (lol). What a dog! Almost completely camouflaged.  I trust this pilot    \n",
       "2344                       Here we have a northern speckled Rhododendron. Much sass. Gives 0 fucks. Good tongue. would caress sensually    \n",
       "2351                                        Here we have a 1949 1st generation vulpix. Enjoys sweat tea and Fox News. Cannot be phased.    \n",
       "2355                             Here we have a Japanese Irish Setter. Lost eye in Vietnam (?). Big fan of relaxing on stair. would pet    \n",
       "\n",
       "      retweeted_status_id  retweeted_status_user_id  \\\n",
       "5                     NaN                       NaN   \n",
       "7                     NaN                       NaN   \n",
       "12                    NaN                       NaN   \n",
       "25                    NaN                       NaN   \n",
       "37                    NaN                       NaN   \n",
       "...                   ...                       ...   \n",
       "2342                  NaN                       NaN   \n",
       "2343                  NaN                       NaN   \n",
       "2344                  NaN                       NaN   \n",
       "2351                  NaN                       NaN   \n",
       "2355                  NaN                       NaN   \n",
       "\n",
       "     retweeted_status_timestamp  \\\n",
       "5                           NaN   \n",
       "7                           NaN   \n",
       "12                          NaN   \n",
       "25                          NaN   \n",
       "37                          NaN   \n",
       "...                         ...   \n",
       "2342                        NaN   \n",
       "2343                        NaN   \n",
       "2344                        NaN   \n",
       "2351                        NaN   \n",
       "2355                        NaN   \n",
       "\n",
       "                                                        expanded_urls  \\\n",
       "5     https://twitter.com/dog_rates/status/891087950875897856/photo/1   \n",
       "7     https://twitter.com/dog_rates/status/890729181411237888/photo/1   \n",
       "12    https://twitter.com/dog_rates/status/889665388333682689/photo/1   \n",
       "25    https://twitter.com/dog_rates/status/887101392804085760/photo/1   \n",
       "37    https://twitter.com/dog_rates/status/885167619883638784/photo/1   \n",
       "...                                                               ...   \n",
       "2342  https://twitter.com/dog_rates/status/666082916733198337/photo/1   \n",
       "2343  https://twitter.com/dog_rates/status/666073100786774016/photo/1   \n",
       "2344  https://twitter.com/dog_rates/status/666071193221509120/photo/1   \n",
       "2351  https://twitter.com/dog_rates/status/666049248165822465/photo/1   \n",
       "2355  https://twitter.com/dog_rates/status/666020888022790149/photo/1   \n",
       "\n",
       "      rating_numerator  rating_denominator  name doggo floofer pupper  puppo  \\\n",
       "5                   13                  10  None  None    None   None   None   \n",
       "7                   13                  10  None  None    None   None   None   \n",
       "12                  13                  10  None  None    None   None  puppo   \n",
       "25                  12                  10  None  None    None   None   None   \n",
       "37                  13                  10  None  None    None   None   None   \n",
       "...                ...                 ...   ...   ...     ...    ...    ...   \n",
       "2342                 6                  10  None  None    None   None   None   \n",
       "2343                10                  10  None  None    None   None   None   \n",
       "2344                 9                  10  None  None    None   None   None   \n",
       "2351                 5                  10  None  None    None   None   None   \n",
       "2355                 8                  10  None  None    None   None   None   \n",
       "\n",
       "      retweet_count  favorite_count  \n",
       "5            3261.0         20562.0  \n",
       "7           16716.0         56848.0  \n",
       "12           8538.0         38818.0  \n",
       "25           6167.0         31061.0  \n",
       "37           4556.0         22367.0  \n",
       "...             ...             ...  \n",
       "2342           47.0           121.0  \n",
       "2343          174.0           335.0  \n",
       "2344           67.0           154.0  \n",
       "2351           41.0           111.0  \n",
       "2355          532.0          2535.0  \n",
       "\n",
       "[490 rows x 19 columns]"
      ]
     },
     "execution_count": 133,
     "metadata": {},
     "output_type": "execute_result"
    }
   ],
   "source": [
    "df2[df2.name == 'None']\n"
   ]
  },
  {
   "cell_type": "code",
   "execution_count": 134,
   "metadata": {},
   "outputs": [],
   "source": [
    "def remove_none(x):\n",
    "    x = str(x)\n",
    "    return None if x in {'None', 'none'} else x\n",
    "\n",
    "df2.name = df2.name.apply(lambda x: remove_none(x))"
   ]
  },
  {
   "cell_type": "markdown",
   "metadata": {},
   "source": [
    "#### Test"
   ]
  },
  {
   "cell_type": "code",
   "execution_count": 135,
   "metadata": {},
   "outputs": [
    {
     "data": {
      "text/html": [
       "<div>\n",
       "<style scoped>\n",
       "    .dataframe tbody tr th:only-of-type {\n",
       "        vertical-align: middle;\n",
       "    }\n",
       "\n",
       "    .dataframe tbody tr th {\n",
       "        vertical-align: top;\n",
       "    }\n",
       "\n",
       "    .dataframe thead th {\n",
       "        text-align: right;\n",
       "    }\n",
       "</style>\n",
       "<table border=\"1\" class=\"dataframe\">\n",
       "  <thead>\n",
       "    <tr style=\"text-align: right;\">\n",
       "      <th></th>\n",
       "      <th>tweet_id</th>\n",
       "      <th>in_reply_to_status_id</th>\n",
       "      <th>in_reply_to_user_id</th>\n",
       "      <th>timestamp</th>\n",
       "      <th>source</th>\n",
       "      <th>text</th>\n",
       "      <th>retweeted_status_id</th>\n",
       "      <th>retweeted_status_user_id</th>\n",
       "      <th>retweeted_status_timestamp</th>\n",
       "      <th>expanded_urls</th>\n",
       "      <th>rating_numerator</th>\n",
       "      <th>rating_denominator</th>\n",
       "      <th>name</th>\n",
       "      <th>doggo</th>\n",
       "      <th>floofer</th>\n",
       "      <th>pupper</th>\n",
       "      <th>puppo</th>\n",
       "      <th>retweet_count</th>\n",
       "      <th>favorite_count</th>\n",
       "    </tr>\n",
       "  </thead>\n",
       "  <tbody>\n",
       "  </tbody>\n",
       "</table>\n",
       "</div>"
      ],
      "text/plain": [
       "Empty DataFrame\n",
       "Columns: [tweet_id, in_reply_to_status_id, in_reply_to_user_id, timestamp, source, text, retweeted_status_id, retweeted_status_user_id, retweeted_status_timestamp, expanded_urls, rating_numerator, rating_denominator, name, doggo, floofer, pupper, puppo, retweet_count, favorite_count]\n",
       "Index: []"
      ]
     },
     "execution_count": 135,
     "metadata": {},
     "output_type": "execute_result"
    }
   ],
   "source": [
    "df2[df2.name == 'None']\n"
   ]
  },
  {
   "cell_type": "markdown",
   "metadata": {},
   "source": [
    "### Issue #10: the columns doggo, floofer, pupper, puppo, represent the same value which is dog stage."
   ]
  },
  {
   "cell_type": "markdown",
   "metadata": {},
   "source": [
    "#### Define\n",
    "Combine the columns doggo, floofer, pupper, and puppo into a single column named dog_stage"
   ]
  },
  {
   "cell_type": "markdown",
   "metadata": {},
   "source": [
    "#### Code"
   ]
  },
  {
   "cell_type": "code",
   "execution_count": 136,
   "metadata": {},
   "outputs": [],
   "source": [
    "# sourcery skip: use-fstring-for-concatenation\n",
    "df2['dog_stage'] = df2.doggo+\" \"+df2.floofer+\" \"+df2.pupper+\" \"+df2.puppo\n",
    "df2.drop(axis=1, columns=['doggo', 'floofer', 'pupper', 'puppo'], inplace=True)\n"
   ]
  },
  {
   "cell_type": "code",
   "execution_count": 137,
   "metadata": {},
   "outputs": [],
   "source": [
    "def clean_dog_stage(x):\n",
    "    \"\"\"Replace the string 'None' with empty string\"\"\"\n",
    "    x = str(x)\n",
    "    x = x.replace('None', '')\n",
    "    return x.strip()\n",
    "\n",
    "df2.dog_stage = df2.dog_stage.apply(lambda x: clean_dog_stage(x))\n"
   ]
  },
  {
   "cell_type": "markdown",
   "metadata": {},
   "source": [
    "#### Test"
   ]
  },
  {
   "cell_type": "code",
   "execution_count": 138,
   "metadata": {},
   "outputs": [
    {
     "data": {
      "text/plain": [
       "0          \n",
       "1          \n",
       "2          \n",
       "3          \n",
       "4          \n",
       "5          \n",
       "6          \n",
       "7          \n",
       "8          \n",
       "9     doggo\n",
       "10         \n",
       "11         \n",
       "12    puppo\n",
       "13         \n",
       "14    puppo\n",
       "Name: dog_stage, dtype: object"
      ]
     },
     "execution_count": 138,
     "metadata": {},
     "output_type": "execute_result"
    }
   ],
   "source": [
    "df2.dog_stage.head(15)\n"
   ]
  },
  {
   "cell_type": "code",
   "execution_count": 139,
   "metadata": {},
   "outputs": [
    {
     "name": "stdout",
     "output_type": "stream",
     "text": [
      "<class 'pandas.core.frame.DataFrame'>\n",
      "Int64Index: 1899 entries, 0 to 2355\n",
      "Data columns (total 16 columns):\n",
      " #   Column                      Non-Null Count  Dtype         \n",
      "---  ------                      --------------  -----         \n",
      " 0   tweet_id                    1899 non-null   object        \n",
      " 1   in_reply_to_status_id       0 non-null      float64       \n",
      " 2   in_reply_to_user_id         0 non-null      float64       \n",
      " 3   timestamp                   1899 non-null   datetime64[ns]\n",
      " 4   source                      1899 non-null   object        \n",
      " 5   text                        1899 non-null   object        \n",
      " 6   retweeted_status_id         0 non-null      float64       \n",
      " 7   retweeted_status_user_id    0 non-null      float64       \n",
      " 8   retweeted_status_timestamp  0 non-null      object        \n",
      " 9   expanded_urls               1899 non-null   object        \n",
      " 10  rating_numerator            1899 non-null   int64         \n",
      " 11  rating_denominator          1899 non-null   int64         \n",
      " 12  name                        1409 non-null   object        \n",
      " 13  retweet_count               1899 non-null   float64       \n",
      " 14  favorite_count              1899 non-null   float64       \n",
      " 15  dog_stage                   1899 non-null   object        \n",
      "dtypes: datetime64[ns](1), float64(6), int64(2), object(7)\n",
      "memory usage: 252.2+ KB\n"
     ]
    },
    {
     "data": {
      "text/plain": [
       "Index(['tweet_id', 'in_reply_to_status_id', 'in_reply_to_user_id', 'timestamp',\n",
       "       'source', 'text', 'retweeted_status_id', 'retweeted_status_user_id',\n",
       "       'retweeted_status_timestamp', 'expanded_urls', 'rating_numerator',\n",
       "       'rating_denominator', 'name', 'retweet_count', 'favorite_count',\n",
       "       'dog_stage'],\n",
       "      dtype='object')"
      ]
     },
     "execution_count": 139,
     "metadata": {},
     "output_type": "execute_result"
    }
   ],
   "source": [
    "df2.info()\n",
    "df2.columns"
   ]
  },
  {
   "cell_type": "markdown",
   "metadata": {},
   "source": [
    "### Issue #11. there are many useless columns: in_reply_to_status_id, in_reply_to_user_id, source, retweeted_status_id, retweeted_status_user_id and retweeted_status_timestamp"
   ]
  },
  {
   "cell_type": "markdown",
   "metadata": {},
   "source": [
    "#### Define:\n",
    "Remove unnecessary columns and reorganise columns"
   ]
  },
  {
   "cell_type": "markdown",
   "metadata": {},
   "source": [
    "#### Code"
   ]
  },
  {
   "cell_type": "code",
   "execution_count": 140,
   "metadata": {},
   "outputs": [],
   "source": [
    "df2.columns\n",
    "df2.drop(columns=['in_reply_to_status_id',\n",
    "         'in_reply_to_user_id', 'source', 'retweeted_status_id', 'retweeted_status_user_id', 'retweeted_status_timestamp'], axis=1, inplace=True)\n"
   ]
  },
  {
   "cell_type": "code",
   "execution_count": 141,
   "metadata": {},
   "outputs": [],
   "source": [
    "new_columns = ['tweet_id', 'timestamp', 'text', 'name', 'expanded_urls',\n",
    "               'rating_numerator', 'rating_denominator', 'retweet_count', 'favorite_count', 'dog_stage']\n",
    "\n",
    "df2 = df2.reindex(columns=new_columns)\n",
    "\n"
   ]
  },
  {
   "cell_type": "markdown",
   "metadata": {},
   "source": [
    "#### Test"
   ]
  },
  {
   "cell_type": "code",
   "execution_count": 142,
   "metadata": {},
   "outputs": [
    {
     "data": {
      "text/plain": [
       "Index(['tweet_id', 'timestamp', 'text', 'name', 'expanded_urls',\n",
       "       'rating_numerator', 'rating_denominator', 'retweet_count',\n",
       "       'favorite_count', 'dog_stage'],\n",
       "      dtype='object')"
      ]
     },
     "execution_count": 142,
     "metadata": {},
     "output_type": "execute_result"
    }
   ],
   "source": [
    "df2.columns\n"
   ]
  },
  {
   "cell_type": "markdown",
   "metadata": {},
   "source": [
    "### Issue #12: the timestamp column contains time, day, month, and year at once"
   ]
  },
  {
   "cell_type": "markdown",
   "metadata": {},
   "source": [
    "#### Define\n",
    "split the timestamp column into time, day, month, and year"
   ]
  },
  {
   "cell_type": "markdown",
   "metadata": {},
   "source": [
    "#### Code"
   ]
  },
  {
   "cell_type": "code",
   "execution_count": 143,
   "metadata": {},
   "outputs": [],
   "source": [
    "df2['time'] = df2.timestamp.dt.time\n",
    "df2['day'] = df2.timestamp.dt.day\n",
    "df2['month'] = df2.timestamp.dt.month\n",
    "df2['year'] = df2.timestamp.dt.year\n",
    "df2.drop(labels=['timestamp'], axis=1, inplace=True)"
   ]
  },
  {
   "cell_type": "code",
   "execution_count": 144,
   "metadata": {},
   "outputs": [],
   "source": [
    "new_columns = ['tweet_id', 'time', 'day', 'month', 'year', 'text', 'name', 'expanded_urls',\n",
    "               'rating_numerator', 'rating_denominator', 'retweet_count',\n",
    "               'favorite_count', 'dog_stage']\n",
    "df2 = df2.reindex(columns=new_columns)\n"
   ]
  },
  {
   "cell_type": "code",
   "execution_count": 145,
   "metadata": {},
   "outputs": [],
   "source": [
    "from typing import Union\n",
    "def set_month_name(month_number: Union[int, None]) -> str:\n",
    "    if isinstance(month_number, int):\n",
    "        month_index = month_number-1\n",
    "        months_list = ['january', 'febuary', 'march', 'april', 'may', 'june', 'july', 'august', 'september', 'october', 'november', 'december']\n",
    "        return months_list[month_index]\n",
    "    return None\n",
    "\n",
    "df2.month = df2.month.apply(lambda x: set_month_name(x))"
   ]
  },
  {
   "cell_type": "markdown",
   "metadata": {},
   "source": [
    "#### Test"
   ]
  },
  {
   "cell_type": "code",
   "execution_count": 146,
   "metadata": {},
   "outputs": [
    {
     "data": {
      "text/plain": [
       "Index(['tweet_id', 'time', 'day', 'month', 'year', 'text', 'name',\n",
       "       'expanded_urls', 'rating_numerator', 'rating_denominator',\n",
       "       'retweet_count', 'favorite_count', 'dog_stage'],\n",
       "      dtype='object')"
      ]
     },
     "execution_count": 146,
     "metadata": {},
     "output_type": "execute_result"
    }
   ],
   "source": [
    "df2.columns"
   ]
  },
  {
   "cell_type": "code",
   "execution_count": 147,
   "metadata": {},
   "outputs": [
    {
     "data": {
      "text/html": [
       "<div>\n",
       "<style scoped>\n",
       "    .dataframe tbody tr th:only-of-type {\n",
       "        vertical-align: middle;\n",
       "    }\n",
       "\n",
       "    .dataframe tbody tr th {\n",
       "        vertical-align: top;\n",
       "    }\n",
       "\n",
       "    .dataframe thead th {\n",
       "        text-align: right;\n",
       "    }\n",
       "</style>\n",
       "<table border=\"1\" class=\"dataframe\">\n",
       "  <thead>\n",
       "    <tr style=\"text-align: right;\">\n",
       "      <th></th>\n",
       "      <th>tweet_id</th>\n",
       "      <th>time</th>\n",
       "      <th>day</th>\n",
       "      <th>month</th>\n",
       "      <th>year</th>\n",
       "      <th>text</th>\n",
       "      <th>name</th>\n",
       "      <th>expanded_urls</th>\n",
       "      <th>rating_numerator</th>\n",
       "      <th>rating_denominator</th>\n",
       "      <th>retweet_count</th>\n",
       "      <th>favorite_count</th>\n",
       "      <th>dog_stage</th>\n",
       "    </tr>\n",
       "  </thead>\n",
       "  <tbody>\n",
       "    <tr>\n",
       "      <th>0</th>\n",
       "      <td>892420643555336193</td>\n",
       "      <td>16:23:56</td>\n",
       "      <td>1</td>\n",
       "      <td>august</td>\n",
       "      <td>2017</td>\n",
       "      <td>This is Phineas. He's a mystical boy. Only ever appears in the hole of a donut.</td>\n",
       "      <td>Phineas</td>\n",
       "      <td>https://twitter.com/dog_rates/status/892420643555336193/photo/1</td>\n",
       "      <td>13</td>\n",
       "      <td>10</td>\n",
       "      <td>8853.0</td>\n",
       "      <td>39467.0</td>\n",
       "      <td></td>\n",
       "    </tr>\n",
       "    <tr>\n",
       "      <th>1</th>\n",
       "      <td>892177421306343426</td>\n",
       "      <td>00:17:27</td>\n",
       "      <td>1</td>\n",
       "      <td>august</td>\n",
       "      <td>2017</td>\n",
       "      <td>This is Tilly. She's just checking pup on you. Hopes you're doing ok. If not, she's available for pats, snugs, boops, the whole bit.</td>\n",
       "      <td>Tilly</td>\n",
       "      <td>https://twitter.com/dog_rates/status/892177421306343426/photo/1</td>\n",
       "      <td>13</td>\n",
       "      <td>10</td>\n",
       "      <td>6514.0</td>\n",
       "      <td>33819.0</td>\n",
       "      <td></td>\n",
       "    </tr>\n",
       "    <tr>\n",
       "      <th>2</th>\n",
       "      <td>891815181378084864</td>\n",
       "      <td>00:18:03</td>\n",
       "      <td>31</td>\n",
       "      <td>july</td>\n",
       "      <td>2017</td>\n",
       "      <td>This is Archie. He is a rare Norwegian Pouncing Corgo. Lives in the tall grass. You never know when one may strike.</td>\n",
       "      <td>Archie</td>\n",
       "      <td>https://twitter.com/dog_rates/status/891815181378084864/photo/1</td>\n",
       "      <td>12</td>\n",
       "      <td>10</td>\n",
       "      <td>4328.0</td>\n",
       "      <td>25461.0</td>\n",
       "      <td></td>\n",
       "    </tr>\n",
       "    <tr>\n",
       "      <th>3</th>\n",
       "      <td>891689557279858688</td>\n",
       "      <td>15:58:51</td>\n",
       "      <td>30</td>\n",
       "      <td>july</td>\n",
       "      <td>2017</td>\n",
       "      <td>This is Darla. She commenced a snooze mid meal.  happens to the best of us</td>\n",
       "      <td>Darla</td>\n",
       "      <td>https://twitter.com/dog_rates/status/891689557279858688/photo/1</td>\n",
       "      <td>13</td>\n",
       "      <td>10</td>\n",
       "      <td>8964.0</td>\n",
       "      <td>42908.0</td>\n",
       "      <td></td>\n",
       "    </tr>\n",
       "    <tr>\n",
       "      <th>4</th>\n",
       "      <td>891327558926688256</td>\n",
       "      <td>16:00:24</td>\n",
       "      <td>29</td>\n",
       "      <td>july</td>\n",
       "      <td>2017</td>\n",
       "      <td>This is Franklin. He would like you to stop calling him \"cute.\" He is a very fierce shark and should be respected as such.</td>\n",
       "      <td>Franklin</td>\n",
       "      <td>https://twitter.com/dog_rates/status/891327558926688256/photo/1</td>\n",
       "      <td>12</td>\n",
       "      <td>10</td>\n",
       "      <td>9774.0</td>\n",
       "      <td>41048.0</td>\n",
       "      <td></td>\n",
       "    </tr>\n",
       "  </tbody>\n",
       "</table>\n",
       "</div>"
      ],
      "text/plain": [
       "             tweet_id      time  day   month  year  \\\n",
       "0  892420643555336193  16:23:56    1  august  2017   \n",
       "1  892177421306343426  00:17:27    1  august  2017   \n",
       "2  891815181378084864  00:18:03   31    july  2017   \n",
       "3  891689557279858688  15:58:51   30    july  2017   \n",
       "4  891327558926688256  16:00:24   29    july  2017   \n",
       "\n",
       "                                                                                                                                     text  \\\n",
       "0                                                       This is Phineas. He's a mystical boy. Only ever appears in the hole of a donut.     \n",
       "1  This is Tilly. She's just checking pup on you. Hopes you're doing ok. If not, she's available for pats, snugs, boops, the whole bit.     \n",
       "2                   This is Archie. He is a rare Norwegian Pouncing Corgo. Lives in the tall grass. You never know when one may strike.     \n",
       "3                                                             This is Darla. She commenced a snooze mid meal.  happens to the best of us    \n",
       "4           This is Franklin. He would like you to stop calling him \"cute.\" He is a very fierce shark and should be respected as such.      \n",
       "\n",
       "       name                                                    expanded_urls  \\\n",
       "0   Phineas  https://twitter.com/dog_rates/status/892420643555336193/photo/1   \n",
       "1     Tilly  https://twitter.com/dog_rates/status/892177421306343426/photo/1   \n",
       "2    Archie  https://twitter.com/dog_rates/status/891815181378084864/photo/1   \n",
       "3     Darla  https://twitter.com/dog_rates/status/891689557279858688/photo/1   \n",
       "4  Franklin  https://twitter.com/dog_rates/status/891327558926688256/photo/1   \n",
       "\n",
       "   rating_numerator  rating_denominator  retweet_count  favorite_count  \\\n",
       "0                13                  10         8853.0         39467.0   \n",
       "1                13                  10         6514.0         33819.0   \n",
       "2                12                  10         4328.0         25461.0   \n",
       "3                13                  10         8964.0         42908.0   \n",
       "4                12                  10         9774.0         41048.0   \n",
       "\n",
       "  dog_stage  \n",
       "0            \n",
       "1            \n",
       "2            \n",
       "3            \n",
       "4            "
      ]
     },
     "execution_count": 147,
     "metadata": {},
     "output_type": "execute_result"
    }
   ],
   "source": [
    "df2.head()\n"
   ]
  },
  {
   "cell_type": "code",
   "execution_count": 148,
   "metadata": {},
   "outputs": [
    {
     "name": "stdout",
     "output_type": "stream",
     "text": [
      "<class 'pandas.core.frame.DataFrame'>\n",
      "Int64Index: 1899 entries, 0 to 2355\n",
      "Data columns (total 13 columns):\n",
      " #   Column              Non-Null Count  Dtype  \n",
      "---  ------              --------------  -----  \n",
      " 0   tweet_id            1899 non-null   object \n",
      " 1   time                1899 non-null   object \n",
      " 2   day                 1899 non-null   int64  \n",
      " 3   month               1899 non-null   object \n",
      " 4   year                1899 non-null   int64  \n",
      " 5   text                1899 non-null   object \n",
      " 6   name                1409 non-null   object \n",
      " 7   expanded_urls       1899 non-null   object \n",
      " 8   rating_numerator    1899 non-null   int64  \n",
      " 9   rating_denominator  1899 non-null   int64  \n",
      " 10  retweet_count       1899 non-null   float64\n",
      " 11  favorite_count      1899 non-null   float64\n",
      " 12  dog_stage           1899 non-null   object \n",
      "dtypes: float64(2), int64(4), object(7)\n",
      "memory usage: 207.7+ KB\n"
     ]
    }
   ],
   "source": [
    "df2.info()"
   ]
  },
  {
   "cell_type": "markdown",
   "metadata": {},
   "source": [
    "### Issue #13: the image_predictions dataset contains mutliple predictions for each jpg image <a href='#table of content'>"
   ]
  },
  {
   "cell_type": "markdown",
   "metadata": {},
   "source": [
    "##### Define\n",
    "filter and preserve only the best prediction data for each image"
   ]
  },
  {
   "cell_type": "markdown",
   "metadata": {},
   "source": [
    "##### Code"
   ]
  },
  {
   "cell_type": "code",
   "execution_count": 149,
   "metadata": {},
   "outputs": [],
   "source": [
    "from typing import Tuple\n",
    "\n",
    "\n",
    "def get_best_prediction(df: pd.DataFrame) -> Tuple[str, str, float, bool]:\n",
    "    \"\"\"choose the best prediction for each image\n",
    "    \"\"\"\n",
    "    breed = None\n",
    "    score: float = None\n",
    "    is_dog = None\n",
    "    prediction = None\n",
    "    if df.p1_dog is False:\n",
    "        if df.p2_dog is False: \n",
    "            if df.p3_dog is True:\n",
    "                is_dog = True\n",
    "                score = df.p3_conf\n",
    "                breed = df.p3\n",
    "                prediction = 'p3'\n",
    "            elif df.p3_dog is False:\n",
    "                is_dog = False\n",
    "                score = max(df.p1_conf, df.p2_conf, df.p3_conf)\n",
    "                if score == df.p1_conf:\n",
    "                    breed = df.p1\n",
    "                    prediction = 'p1'\n",
    "                elif score == df.p2_conf:\n",
    "                    breed = df.p2\n",
    "                    prediction = 'p2'\n",
    "                elif score == df.p3_conf:\n",
    "                    breed = df.p3\n",
    "                    prediction = 'p3'\n",
    "        elif df.p2_dog is True:\n",
    "            if df.p3_dog is True:\n",
    "                is_dog = True\n",
    "                score = max(df.p2_conf, df.p3_conf)\n",
    "                if score == df.p2_conf:\n",
    "                    breed = df.p2\n",
    "                    prediction = 'p2'\n",
    "                elif score == df.p3_conf:\n",
    "                    breed = df.p3\n",
    "                    prediction = 'p3'\n",
    "            elif df.p3_dog is False:\n",
    "                is_dog = True\n",
    "                score = df.p2_conf\n",
    "                breed = df.p2\n",
    "                prediction = 'p2'\n",
    "    elif df.p1_dog is True:\n",
    "        if df.p2_dog is False: \n",
    "            if df.p3_dog is True:\n",
    "                is_dog = True\n",
    "                score = max(df.p1_conf, df.p3_conf)\n",
    "                if score == df.p1_conf:\n",
    "                    breed = df.p1\n",
    "                    prediction = 'p1'\n",
    "                elif score == df.p3_conf:\n",
    "                    breed = df.p3\n",
    "                    prediction = 'p3'\n",
    "            elif df.p3_dog is False:\n",
    "                is_dog = True\n",
    "                score = df.p1_conf\n",
    "                breed = df.p1\n",
    "                prediction = 'p1'\n",
    "        elif df.p2_dog is True:\n",
    "            if df.p3_dog is False:\n",
    "                is_dog = True\n",
    "                score = max(df.p2_conf, df.p1_conf)\n",
    "                if score == df.p2_conf:\n",
    "                    breed = df.p2\n",
    "                    prediction = 'p2'\n",
    "                elif score == df.p1_conf:\n",
    "                    breed = df.p1\n",
    "                    prediction = 'p1'\n",
    "            elif df.p3_dog is True:\n",
    "                is_dog = True\n",
    "                score = max(df.p1_conf, df.p2_conf, df.p3_conf)\n",
    "                if score == df.p1_conf:\n",
    "                    breed = df.p1\n",
    "                    prediction = 'p1'\n",
    "                elif score == df.p2_conf:\n",
    "                    breed = df.p2\n",
    "                    prediction = 'p2'\n",
    "                elif score == df.p3_conf:\n",
    "                    breed = df.p3\n",
    "                    prediction = 'p3'\n",
    "\n",
    "    return (prediction, breed, score, is_dog) "
   ]
  },
  {
   "cell_type": "code",
   "execution_count": 150,
   "metadata": {},
   "outputs": [],
   "source": [
    "img_pred2[['prediction', 'breed', 'score', 'is_dog']] = img_pred2[img_pred.columns[3:]].apply(\n",
    "    lambda x: get_best_prediction(x), axis=1, result_type='expand')\n",
    "# img_pred['best_prediction_score'] = img_pred[['p1_conf', 'p2_conf', 'p3_conf']].apply(\n",
    "#     lambda x: x.dropna().max(), axis=1)\n",
    "\n",
    "filtered_columns = ['tweet_id', 'jpg_url', 'img_num',\n",
    "                    'prediction', 'breed', 'score', 'is_dog']\n",
    "\n",
    "#remove old predictions data\n",
    "for column in img_pred2.columns:\n",
    "    if column not in filtered_columns:\n",
    "        img_pred2.drop(labels=column, axis=1, inplace=True)\n"
   ]
  },
  {
   "cell_type": "markdown",
   "metadata": {},
   "source": [
    "##### Test"
   ]
  },
  {
   "cell_type": "code",
   "execution_count": 151,
   "metadata": {},
   "outputs": [
    {
     "name": "stdout",
     "output_type": "stream",
     "text": [
      "<class 'pandas.core.frame.DataFrame'>\n",
      "RangeIndex: 2075 entries, 0 to 2074\n",
      "Data columns (total 7 columns):\n",
      " #   Column      Non-Null Count  Dtype  \n",
      "---  ------      --------------  -----  \n",
      " 0   tweet_id    2075 non-null   int64  \n",
      " 1   jpg_url     2075 non-null   object \n",
      " 2   img_num     2075 non-null   int64  \n",
      " 3   prediction  2075 non-null   object \n",
      " 4   breed       2075 non-null   object \n",
      " 5   score       2075 non-null   float64\n",
      " 6   is_dog      2075 non-null   bool   \n",
      "dtypes: bool(1), float64(1), int64(2), object(3)\n",
      "memory usage: 99.4+ KB\n"
     ]
    }
   ],
   "source": [
    "img_pred2.info()\n"
   ]
  },
  {
   "cell_type": "code",
   "execution_count": 152,
   "metadata": {},
   "outputs": [
    {
     "data": {
      "text/html": [
       "<div>\n",
       "<style scoped>\n",
       "    .dataframe tbody tr th:only-of-type {\n",
       "        vertical-align: middle;\n",
       "    }\n",
       "\n",
       "    .dataframe tbody tr th {\n",
       "        vertical-align: top;\n",
       "    }\n",
       "\n",
       "    .dataframe thead th {\n",
       "        text-align: right;\n",
       "    }\n",
       "</style>\n",
       "<table border=\"1\" class=\"dataframe\">\n",
       "  <thead>\n",
       "    <tr style=\"text-align: right;\">\n",
       "      <th></th>\n",
       "      <th>tweet_id</th>\n",
       "      <th>jpg_url</th>\n",
       "      <th>img_num</th>\n",
       "      <th>prediction</th>\n",
       "      <th>breed</th>\n",
       "      <th>score</th>\n",
       "      <th>is_dog</th>\n",
       "    </tr>\n",
       "  </thead>\n",
       "  <tbody>\n",
       "    <tr>\n",
       "      <th>0</th>\n",
       "      <td>666020888022790149</td>\n",
       "      <td>https://pbs.twimg.com/media/CT4udn0WwAA0aMy.jpg</td>\n",
       "      <td>1</td>\n",
       "      <td>p1</td>\n",
       "      <td>Welsh_springer_spaniel</td>\n",
       "      <td>0.465074</td>\n",
       "      <td>True</td>\n",
       "    </tr>\n",
       "    <tr>\n",
       "      <th>1</th>\n",
       "      <td>666029285002620928</td>\n",
       "      <td>https://pbs.twimg.com/media/CT42GRgUYAA5iDo.jpg</td>\n",
       "      <td>1</td>\n",
       "      <td>p1</td>\n",
       "      <td>redbone</td>\n",
       "      <td>0.506826</td>\n",
       "      <td>True</td>\n",
       "    </tr>\n",
       "    <tr>\n",
       "      <th>2</th>\n",
       "      <td>666033412701032449</td>\n",
       "      <td>https://pbs.twimg.com/media/CT4521TWwAEvMyu.jpg</td>\n",
       "      <td>1</td>\n",
       "      <td>p1</td>\n",
       "      <td>German_shepherd</td>\n",
       "      <td>0.596461</td>\n",
       "      <td>True</td>\n",
       "    </tr>\n",
       "    <tr>\n",
       "      <th>3</th>\n",
       "      <td>666044226329800704</td>\n",
       "      <td>https://pbs.twimg.com/media/CT5Dr8HUEAA-lEu.jpg</td>\n",
       "      <td>1</td>\n",
       "      <td>p1</td>\n",
       "      <td>Rhodesian_ridgeback</td>\n",
       "      <td>0.408143</td>\n",
       "      <td>True</td>\n",
       "    </tr>\n",
       "    <tr>\n",
       "      <th>4</th>\n",
       "      <td>666049248165822465</td>\n",
       "      <td>https://pbs.twimg.com/media/CT5IQmsXIAAKY4A.jpg</td>\n",
       "      <td>1</td>\n",
       "      <td>p1</td>\n",
       "      <td>miniature_pinscher</td>\n",
       "      <td>0.560311</td>\n",
       "      <td>True</td>\n",
       "    </tr>\n",
       "  </tbody>\n",
       "</table>\n",
       "</div>"
      ],
      "text/plain": [
       "             tweet_id                                          jpg_url  \\\n",
       "0  666020888022790149  https://pbs.twimg.com/media/CT4udn0WwAA0aMy.jpg   \n",
       "1  666029285002620928  https://pbs.twimg.com/media/CT42GRgUYAA5iDo.jpg   \n",
       "2  666033412701032449  https://pbs.twimg.com/media/CT4521TWwAEvMyu.jpg   \n",
       "3  666044226329800704  https://pbs.twimg.com/media/CT5Dr8HUEAA-lEu.jpg   \n",
       "4  666049248165822465  https://pbs.twimg.com/media/CT5IQmsXIAAKY4A.jpg   \n",
       "\n",
       "   img_num prediction                   breed     score  is_dog  \n",
       "0        1         p1  Welsh_springer_spaniel  0.465074    True  \n",
       "1        1         p1                 redbone  0.506826    True  \n",
       "2        1         p1         German_shepherd  0.596461    True  \n",
       "3        1         p1     Rhodesian_ridgeback  0.408143    True  \n",
       "4        1         p1      miniature_pinscher  0.560311    True  "
      ]
     },
     "execution_count": 152,
     "metadata": {},
     "output_type": "execute_result"
    }
   ],
   "source": [
    "img_pred2.head()\n"
   ]
  },
  {
   "cell_type": "markdown",
   "metadata": {},
   "source": [
    "## Storing Data [🔝](#table-of-content)\n"
   ]
  },
  {
   "cell_type": "code",
   "execution_count": 153,
   "metadata": {},
   "outputs": [
    {
     "data": {
      "text/plain": [
       "Index(['tweet_id', 'time', 'day', 'month', 'year', 'text', 'name',\n",
       "       'expanded_urls', 'rating_numerator', 'rating_denominator',\n",
       "       'retweet_count', 'favorite_count', 'dog_stage', 'jpg_url', 'img_num',\n",
       "       'prediction', 'breed', 'score', 'is_dog'],\n",
       "      dtype='object')"
      ]
     },
     "execution_count": 153,
     "metadata": {},
     "output_type": "execute_result"
    }
   ],
   "source": [
    "df2 = pd.merge(df2, img_pred2, how='left', on='tweet_id', sort=False)\n",
    "df2.to_csv('twitter_archive_master.csv', index=False, header=True)\n",
    "df2.columns"
   ]
  },
  {
   "cell_type": "code",
   "execution_count": 154,
   "metadata": {},
   "outputs": [
    {
     "name": "stdout",
     "output_type": "stream",
     "text": [
      "<class 'pandas.core.frame.DataFrame'>\n",
      "Int64Index: 1899 entries, 0 to 1898\n",
      "Data columns (total 19 columns):\n",
      " #   Column              Non-Null Count  Dtype  \n",
      "---  ------              --------------  -----  \n",
      " 0   tweet_id            1899 non-null   object \n",
      " 1   time                1899 non-null   object \n",
      " 2   day                 1899 non-null   int64  \n",
      " 3   month               1899 non-null   object \n",
      " 4   year                1899 non-null   int64  \n",
      " 5   text                1899 non-null   object \n",
      " 6   name                1409 non-null   object \n",
      " 7   expanded_urls       1899 non-null   object \n",
      " 8   rating_numerator    1899 non-null   int64  \n",
      " 9   rating_denominator  1899 non-null   int64  \n",
      " 10  retweet_count       1899 non-null   float64\n",
      " 11  favorite_count      1899 non-null   float64\n",
      " 12  dog_stage           1899 non-null   object \n",
      " 13  jpg_url             1899 non-null   object \n",
      " 14  img_num             1899 non-null   int64  \n",
      " 15  prediction          1899 non-null   object \n",
      " 16  breed               1899 non-null   object \n",
      " 17  score               1899 non-null   float64\n",
      " 18  is_dog              1899 non-null   bool   \n",
      "dtypes: bool(1), float64(3), int64(5), object(10)\n",
      "memory usage: 283.7+ KB\n"
     ]
    }
   ],
   "source": [
    "df2.info()"
   ]
  },
  {
   "cell_type": "markdown",
   "metadata": {},
   "source": [
    "## Analyzing and Visualizing Data [🔝](#table-of-content)"
   ]
  },
  {
   "cell_type": "markdown",
   "metadata": {},
   "source": [
    "##### Get the number of years and the list of years"
   ]
  },
  {
   "cell_type": "code",
   "execution_count": 155,
   "metadata": {},
   "outputs": [
    {
     "name": "stdout",
     "output_type": "stream",
     "text": [
      "Number of years: 3\n",
      "List of years: [2017 2016 2015]\n"
     ]
    }
   ],
   "source": [
    "print(f'Number of years: {df2.year.nunique()}')\n",
    "print(f'List of years: {df2.year.unique()}')"
   ]
  },
  {
   "cell_type": "markdown",
   "metadata": {},
   "source": [
    "##### Get the dataframe for each individual year"
   ]
  },
  {
   "cell_type": "code",
   "execution_count": 156,
   "metadata": {},
   "outputs": [],
   "source": [
    "df_2015 = df2[df2.year == 2015]\n",
    "df_2016 = df2[df2.year == 2016]\n",
    "df_2017 = df2[df2.year == 2017]"
   ]
  },
  {
   "cell_type": "markdown",
   "metadata": {},
   "source": [
    "##### Get the number of tweets per month for each individual year"
   ]
  },
  {
   "cell_type": "markdown",
   "metadata": {},
   "source": [
    "###### Number of months per individual year"
   ]
  },
  {
   "cell_type": "code",
   "execution_count": 157,
   "metadata": {},
   "outputs": [
    {
     "name": "stdout",
     "output_type": "stream",
     "text": [
      "Number of months in 2015: 2\n",
      "List of months in 2015: ['december' 'november']\n"
     ]
    }
   ],
   "source": [
    "print(f'Number of months in 2015: {df_2015.month.nunique()}')\n",
    "print(f'List of months in 2015: {df_2015.month.unique()}')\n"
   ]
  },
  {
   "cell_type": "code",
   "execution_count": 158,
   "metadata": {},
   "outputs": [
    {
     "name": "stdout",
     "output_type": "stream",
     "text": [
      "Number of months in 2016: 12\n",
      "List of months in 2016: ['december' 'november' 'october' 'september' 'august' 'july' 'june' 'may'\n",
      " 'april' 'march' 'febuary' 'january']\n"
     ]
    }
   ],
   "source": [
    "print(f'Number of months in 2016: {df_2016.month.nunique()}')\n",
    "print(f'List of months in 2016: {df_2016.month.unique()}')\n"
   ]
  },
  {
   "cell_type": "code",
   "execution_count": 159,
   "metadata": {},
   "outputs": [
    {
     "name": "stdout",
     "output_type": "stream",
     "text": [
      "Number of months in 2017: 8\n",
      "List of months in 2017: ['august' 'july' 'june' 'may' 'april' 'march' 'febuary' 'january']\n"
     ]
    }
   ],
   "source": [
    "print(f'Number of months in 2017: {df_2017.month.nunique()}')\n",
    "print(f'List of months in 2017: {df_2017.month.unique()}')\n"
   ]
  },
  {
   "cell_type": "markdown",
   "metadata": {},
   "source": [
    "###### Number of tweets per month"
   ]
  },
  {
   "cell_type": "code",
   "execution_count": 160,
   "metadata": {},
   "outputs": [
    {
     "data": {
      "text/plain": [
       "<matplotlib.legend.Legend at 0x1b3f3f95b20>"
      ]
     },
     "execution_count": 160,
     "metadata": {},
     "output_type": "execute_result"
    },
    {
     "data": {
      "image/png": "[encoded data removed]",
      "text/plain": [
       "<Figure size 576x360 with 1 Axes>"
      ]
     },
     "metadata": {
      "needs_background": "light"
     },
     "output_type": "display_data"
    }
   ],
   "source": [
    "df_2015.month.value_counts().sort_values(ascending=False).plot(kind='bar', figsize=(\n",
    "    8, 5), ylabel='number of tweets', xlabel='months', color='yellowgreen')\n",
    "plt.title('Number of tweets per month in 2015')\n",
    "plt.legend()\n"
   ]
  },
  {
   "cell_type": "markdown",
   "metadata": {},
   "source": [
    "In 2015, tweets in december are higher than in november"
   ]
  },
  {
   "cell_type": "code",
   "execution_count": 161,
   "metadata": {},
   "outputs": [
    {
     "data": {
      "text/plain": [
       "<matplotlib.legend.Legend at 0x1b3f4678550>"
      ]
     },
     "execution_count": 161,
     "metadata": {},
     "output_type": "execute_result"
    },
    {
     "data": {
      "image/png": "[encoded data removed]",
      "text/plain": [
       "<Figure size 576x360 with 1 Axes>"
      ]
     },
     "metadata": {
      "needs_background": "light"
     },
     "output_type": "display_data"
    }
   ],
   "source": [
    "df_2016.month.value_counts().sort_values(ascending=False).plot(kind='bar', figsize=(\n",
    "    8, 5), ylabel='number of tweets', xlabel='months', color='yellowgreen')\n",
    "plt.title('Number of tweets per month in 2016')\n",
    "plt.legend()\n"
   ]
  },
  {
   "cell_type": "markdown",
   "metadata": {},
   "source": [
    "In 2016, the month of january has the highest number of tweets, and same as in 2015, december has a higher number of tweets than november."
   ]
  },
  {
   "cell_type": "code",
   "execution_count": 162,
   "metadata": {},
   "outputs": [
    {
     "data": {
      "text/plain": [
       "<matplotlib.legend.Legend at 0x1b3f3f95e50>"
      ]
     },
     "execution_count": 162,
     "metadata": {},
     "output_type": "execute_result"
    },
    {
     "data": {
      "image/png": "[encoded data removed]",
      "text/plain": [
       "<Figure size 576x360 with 1 Axes>"
      ]
     },
     "metadata": {
      "needs_background": "light"
     },
     "output_type": "display_data"
    }
   ],
   "source": [
    "df_2017.month.value_counts().sort_values(ascending=False).plot(kind='bar', figsize=(\n",
    "    8, 5), ylabel='number of tweets', xlabel='months', color='yellowgreen')\n",
    "plt.title('Number of tweets per month in 2017')\n",
    "plt.legend()\n"
   ]
  },
  {
   "cell_type": "markdown",
   "metadata": {},
   "source": [
    "In 2017, the highest number of tweets are made on january and febuary and the lowest number of tweets are made on august"
   ]
  },
  {
   "cell_type": "markdown",
   "metadata": {},
   "source": [
    "##### Evolution of ratings per year"
   ]
  },
  {
   "cell_type": "markdown",
   "metadata": {},
   "source": [
    "###### In 2015"
   ]
  },
  {
   "cell_type": "code",
   "execution_count": 163,
   "metadata": {},
   "outputs": [
    {
     "data": {
      "text/plain": [
       "Text(0.5, 1.0, 'Number of ratings per month in 2015')"
      ]
     },
     "execution_count": 163,
     "metadata": {},
     "output_type": "execute_result"
    },
    {
     "data": {
      "image/png": "[encoded data removed]",
      "text/plain": [
       "<Figure size 1080x1080 with 1 Axes>"
      ]
     },
     "metadata": {
      "needs_background": "light"
     },
     "output_type": "display_data"
    }
   ],
   "source": [
    "df_2015.plot(kind='scatter', figsize=(15, 15),\n",
    "             color='purple', x='month', y='rating_numerator')\n",
    "plt.title('Number of ratings per month in 2015')\n",
    "\n"
   ]
  },
  {
   "cell_type": "markdown",
   "metadata": {},
   "source": [
    "In 2015, most of the ratings are concentrated between 0 and 30 and the month of december has the higest number and the higest values of ratings"
   ]
  },
  {
   "cell_type": "markdown",
   "metadata": {},
   "source": [
    "###### In 2016"
   ]
  },
  {
   "cell_type": "code",
   "execution_count": 164,
   "metadata": {},
   "outputs": [
    {
     "data": {
      "text/plain": [
       "Text(0.5, 1.0, 'Number of ratings per month in 2016')"
      ]
     },
     "execution_count": 164,
     "metadata": {},
     "output_type": "execute_result"
    },
    {
     "data": {
      "image/png": "[encoded data removed]",
      "text/plain": [
       "<Figure size 1080x1080 with 1 Axes>"
      ]
     },
     "metadata": {
      "needs_background": "light"
     },
     "output_type": "display_data"
    }
   ],
   "source": [
    "df_2016.plot(kind='scatter', figsize=(15, 15),\n",
    "             color='purple', x='month', y='rating_numerator')\n",
    "plt.title('Number of ratings per month in 2016')\n",
    "\n"
   ]
  },
  {
   "cell_type": "markdown",
   "metadata": {},
   "source": [
    "In 2016 too, most ratings values range between 0 and 30 with highest number of ratings being in march"
   ]
  },
  {
   "cell_type": "markdown",
   "metadata": {},
   "source": [
    "###### In 2017"
   ]
  },
  {
   "cell_type": "code",
   "execution_count": 165,
   "metadata": {},
   "outputs": [
    {
     "data": {
      "text/plain": [
       "Text(0.5, 1.0, 'Number of ratings per month in 2017')"
      ]
     },
     "execution_count": 165,
     "metadata": {},
     "output_type": "execute_result"
    },
    {
     "data": {
      "image/png": "[encoded data removed]",
      "text/plain": [
       "<Figure size 1080x1080 with 1 Axes>"
      ]
     },
     "metadata": {
      "needs_background": "light"
     },
     "output_type": "display_data"
    }
   ],
   "source": [
    "df_2017.plot(kind='scatter', figsize=(15, 15),\n",
    "        color='purple', x='month', y='rating_numerator')\n",
    "plt.title('Number of ratings per month in 2017')\n",
    "\n"
   ]
  },
  {
   "cell_type": "markdown",
   "metadata": {},
   "source": [
    "In 2017, most of the ratings range between 0 and 20 with the higest number being in febuary,april and march"
   ]
  },
  {
   "cell_type": "code",
   "execution_count": 166,
   "metadata": {},
   "outputs": [
    {
     "data": {
      "text/plain": [
       "<matplotlib.legend.Legend at 0x1b3f4c83550>"
      ]
     },
     "execution_count": 166,
     "metadata": {},
     "output_type": "execute_result"
    },
    {
     "data": {
      "image/png": "[encoded data removed]",
      "text/plain": [
       "<Figure size 1080x576 with 1 Axes>"
      ]
     },
     "metadata": {
      "needs_background": "light"
     },
     "output_type": "display_data"
    }
   ],
   "source": [
    "df2.groupby('prediction')['is_dog'].count().sort_values(ascending=False).plot(\n",
    "    kind='bar', figsize=(15, 8), ylabel='number of tweets')\n",
    "plt.legend\n",
    "plt.title('Best Prediction')\n",
    "plt.legend()\n"
   ]
  },
  {
   "cell_type": "markdown",
   "metadata": {},
   "source": [
    "##### What are the top 5 most rated breeds per year?"
   ]
  },
  {
   "cell_type": "markdown",
   "metadata": {},
   "source": [
    "###### In 2015"
   ]
  },
  {
   "cell_type": "code",
   "execution_count": 167,
   "metadata": {},
   "outputs": [
    {
     "data": {
      "text/plain": [
       "Chihuahua             3\n",
       "chow                  2\n",
       "Labrador_retriever    2\n",
       "kuvasz                1\n",
       "Samoyed               1\n",
       "Name: breed, dtype: int64"
      ]
     },
     "execution_count": 167,
     "metadata": {},
     "output_type": "execute_result"
    }
   ],
   "source": [
    "best_ratings = df_2015.rating_numerator.sort_values(ascending=False).head()\n",
    "df_dog2015 = df_2015[df_2015.is_dog == True]\n",
    "df_dog2015[df_dog2015.rating_numerator.isin(best_ratings)].breed.value_counts().head()\n"
   ]
  },
  {
   "cell_type": "code",
   "execution_count": 168,
   "metadata": {},
   "outputs": [
    {
     "data": {
      "image/png": "[encoded data removed]",
      "text/plain": [
       "<Figure size 432x288 with 1 Axes>"
      ]
     },
     "metadata": {},
     "output_type": "display_data"
    }
   ],
   "source": [
    "fig1, ax1 = plt.subplots()\n",
    "\n",
    "labels = df_dog2015[df_dog2015.rating_numerator.isin(\n",
    "    best_ratings)].breed.value_counts().head().index\n",
    "\n",
    "sizes = df_dog2015[df_dog2015.rating_numerator.isin(\n",
    "    best_ratings)].breed.value_counts().head().values\n",
    "\n",
    "ax1.pie(sizes, labels=labels, autopct='%1.1f%%',\n",
    "        shadow=True, startangle=0)\n",
    "        \n",
    "ax1.axis('equal')  # Equal aspect ratio ensures that pie is drawn as a circle.\n",
    "plt.title('Best breeds in 2015')\n",
    "plt.show()\n"
   ]
  },
  {
   "cell_type": "markdown",
   "metadata": {},
   "source": [
    "In 2015, the most rated breeds of dogs are borzoi, Labrador_retriever, chow, Samoyed,  kuvasz, and Chihuahua, with Chihuahua having the higest number of ratings "
   ]
  },
  {
   "cell_type": "markdown",
   "metadata": {},
   "source": [
    "###### In 2016"
   ]
  },
  {
   "cell_type": "code",
   "execution_count": 169,
   "metadata": {},
   "outputs": [
    {
     "data": {
      "text/plain": [
       "soft-coated_wheaten_terrier    2\n",
       "golden_retriever               1\n",
       "Name: breed, dtype: int64"
      ]
     },
     "execution_count": 169,
     "metadata": {},
     "output_type": "execute_result"
    }
   ],
   "source": [
    "best_ratings = df_2016.rating_numerator.sort_values(ascending=False).head()\n",
    "df_dog2016 = df_2016[df_2016.is_dog == True]\n",
    "df_dog2016[df_dog2016.rating_numerator.isin(best_ratings)].breed.value_counts().head()\n"
   ]
  },
  {
   "cell_type": "code",
   "execution_count": 170,
   "metadata": {},
   "outputs": [
    {
     "data": {
      "image/png": "[encoded data removed]",
      "text/plain": [
       "<Figure size 432x288 with 1 Axes>"
      ]
     },
     "metadata": {},
     "output_type": "display_data"
    }
   ],
   "source": [
    "fig1, ax1 = plt.subplots()\n",
    "\n",
    "labels = df_dog2016[df_dog2016.rating_numerator.isin(\n",
    "    best_ratings)].breed.value_counts().head().index\n",
    "\n",
    "sizes = df_dog2016[df_dog2016.rating_numerator.isin(\n",
    "    best_ratings)].breed.value_counts().head().values\n",
    "\n",
    "ax1.pie(sizes, labels=labels, autopct='%1.1f%%',\n",
    "        shadow=True, startangle=0, radius=50)\n",
    "\n",
    "ax1.axis('equal')  # Equal aspect ratio ensures that pie is drawn as a circle.\n",
    "plt.title('Best breeds in 2016')\n",
    "plt.show()\n"
   ]
  },
  {
   "cell_type": "markdown",
   "metadata": {},
   "source": [
    "In 2016, golden_retriever and soft-coated_wheaten_terrier are the most rated breeds"
   ]
  },
  {
   "cell_type": "markdown",
   "metadata": {},
   "source": [
    "###### In 2017"
   ]
  },
  {
   "cell_type": "code",
   "execution_count": 171,
   "metadata": {},
   "outputs": [
    {
     "data": {
      "text/plain": [
       "Pembroke                   2\n",
       "French_bulldog             2\n",
       "Chihuahua                  1\n",
       "black-and-tan_coonhound    1\n",
       "Labrador_retriever         1\n",
       "Name: breed, dtype: int64"
      ]
     },
     "execution_count": 171,
     "metadata": {},
     "output_type": "execute_result"
    }
   ],
   "source": [
    "best_ratings = df_2017.rating_numerator.sort_values(ascending=False).head()\n",
    "df_dog2017 = df_2017[df_2017.is_dog == True]\n",
    "df_dog2017[df_dog2017.rating_numerator.isin(best_ratings)].breed.value_counts().head()\n"
   ]
  },
  {
   "cell_type": "code",
   "execution_count": 172,
   "metadata": {},
   "outputs": [
    {
     "data": {
      "image/png": "[encoded data removed]",
      "text/plain": [
       "<Figure size 432x288 with 1 Axes>"
      ]
     },
     "metadata": {},
     "output_type": "display_data"
    }
   ],
   "source": [
    "fig1, ax1 = plt.subplots()\n",
    "\n",
    "labels = df_dog2017[df_dog2017.rating_numerator.isin(\n",
    "    best_ratings)].breed.value_counts().head().index\n",
    "\n",
    "sizes = df_dog2017[df_dog2017.rating_numerator.isin(\n",
    "    best_ratings)].breed.value_counts().head().values\n",
    "\n",
    "ax1.pie(sizes, labels=labels, autopct='%1.1f%%',\n",
    "        shadow=True, startangle=0)\n",
    "\n",
    "ax1.axis('equal')  # Equal aspect ratio ensures that pie is drawn as a circle.\n",
    "plt.title('Best breeds in 2017')\n",
    "plt.show()\n"
   ]
  },
  {
   "cell_type": "markdown",
   "metadata": {},
   "source": [
    "In 2017, the most rated breeds are French_bulldog, Pembroke, Labrador_retriever, black-and-tan_coonhound , and Chihuahua."
   ]
  },
  {
   "cell_type": "markdown",
   "metadata": {},
   "source": [
    "##### The most retweeted breeds"
   ]
  },
  {
   "cell_type": "markdown",
   "metadata": {},
   "source": [
    "###### In 2015"
   ]
  },
  {
   "cell_type": "code",
   "execution_count": 173,
   "metadata": {},
   "outputs": [
    {
     "data": {
      "text/plain": [
       "toy_poodle        2\n",
       "Chihuahua         1\n",
       "Great_Pyrenees    1\n",
       "whippet           1\n",
       "Name: breed, dtype: int64"
      ]
     },
     "execution_count": 173,
     "metadata": {},
     "output_type": "execute_result"
    }
   ],
   "source": [
    "best_ratings = df_2015.retweet_count.sort_values(ascending=False).head()\n",
    "df_dog2015 = df_2015[df_2015.is_dog == True]\n",
    "df_dog2015[df_dog2015.retweet_count.isin(\n",
    "    best_ratings)].breed.value_counts().head()\n"
   ]
  },
  {
   "cell_type": "code",
   "execution_count": 174,
   "metadata": {},
   "outputs": [
    {
     "data": {
      "image/png": "[encoded data removed]",
      "text/plain": [
       "<Figure size 432x288 with 1 Axes>"
      ]
     },
     "metadata": {},
     "output_type": "display_data"
    }
   ],
   "source": [
    "fig1, ax1 = plt.subplots()\n",
    "\n",
    "labels = df_dog2015[df_dog2015.retweet_count.isin(\n",
    "    best_ratings)].breed.value_counts().head().index\n",
    "\n",
    "sizes = df_dog2015[df_dog2015.retweet_count.isin(\n",
    "    best_ratings)].breed.value_counts().head().values\n",
    "\n",
    "ax1.pie(sizes, labels=labels, autopct='%1.1f%%',\n",
    "        shadow=True, startangle=0)\n",
    "\n",
    "ax1.axis('equal')  # Equal aspect ratio ensures that pie is drawn as a circle.\n",
    "plt.title('Best retweeted breeds in 2015')\n",
    "plt.show()\n"
   ]
  },
  {
   "cell_type": "markdown",
   "metadata": {},
   "source": [
    "In 2015, the most retweeted breeds are toy_poodle, Chihuahua, Great_Pyrenees, and whippet."
   ]
  },
  {
   "cell_type": "markdown",
   "metadata": {},
   "source": [
    "###### In 2016"
   ]
  },
  {
   "cell_type": "code",
   "execution_count": 175,
   "metadata": {},
   "outputs": [
    {
     "data": {
      "text/plain": [
       "cocker_spaniel        1\n",
       "Samoyed               1\n",
       "Labrador_retriever    1\n",
       "Name: breed, dtype: int64"
      ]
     },
     "execution_count": 175,
     "metadata": {},
     "output_type": "execute_result"
    }
   ],
   "source": [
    "best_ratings = df_2016.retweet_count.sort_values(ascending=False).head()\n",
    "df_dog2016 = df_2016[df_2016.is_dog == True]\n",
    "df_dog2016[df_dog2016.retweet_count.isin(\n",
    "    best_ratings)].breed.value_counts().head()\n"
   ]
  },
  {
   "cell_type": "code",
   "execution_count": 176,
   "metadata": {},
   "outputs": [
    {
     "data": {
      "image/png": "[encoded data removed]",
      "text/plain": [
       "<Figure size 432x288 with 1 Axes>"
      ]
     },
     "metadata": {},
     "output_type": "display_data"
    }
   ],
   "source": [
    "fig1, ax1 = plt.subplots()\n",
    "\n",
    "labels = df_dog2016[df_dog2016.retweet_count.isin(\n",
    "    best_ratings)].breed.value_counts().head().index\n",
    "\n",
    "sizes = df_dog2016[df_dog2016.retweet_count.isin(\n",
    "    best_ratings)].breed.value_counts().head().values\n",
    "\n",
    "ax1.pie(sizes, labels=labels, autopct='%1.1f%%',\n",
    "        shadow=True, startangle=0)\n",
    "\n",
    "ax1.axis('equal')  # Equal aspect ratio ensures that pie is drawn as a circle.\n",
    "plt.title('Best retweeted breeds in 2016')\n",
    "plt.show()\n"
   ]
  },
  {
   "cell_type": "markdown",
   "metadata": {},
   "source": [
    "In 2016, the most retweeted breeds are Labrador_retriever, Samoyed and cocker_spaniel. "
   ]
  },
  {
   "cell_type": "markdown",
   "metadata": {},
   "source": [
    "###### In 2017"
   ]
  },
  {
   "cell_type": "code",
   "execution_count": 177,
   "metadata": {},
   "outputs": [
    {
     "data": {
      "text/plain": [
       "Pembroke                   2\n",
       "French_bulldog             2\n",
       "Chihuahua                  1\n",
       "black-and-tan_coonhound    1\n",
       "Labrador_retriever         1\n",
       "Name: breed, dtype: int64"
      ]
     },
     "execution_count": 177,
     "metadata": {},
     "output_type": "execute_result"
    }
   ],
   "source": [
    "best_ratings = df_2017.rating_numerator.sort_values(ascending=False).head()\n",
    "df_dog2017 = df_2017[df_2017.is_dog == True]\n",
    "df_dog2017[df_dog2017.rating_numerator.isin(\n",
    "    best_ratings)].breed.value_counts().head()\n"
   ]
  },
  {
   "cell_type": "code",
   "execution_count": 178,
   "metadata": {},
   "outputs": [
    {
     "data": {
      "image/png": "[encoded data removed]",
      "text/plain": [
       "<Figure size 432x288 with 1 Axes>"
      ]
     },
     "metadata": {},
     "output_type": "display_data"
    }
   ],
   "source": [
    "fig1, ax1 = plt.subplots()\n",
    "\n",
    "labels = df_dog2017[df_dog2017.rating_numerator.isin(\n",
    "    best_ratings)].breed.value_counts().head().index\n",
    "\n",
    "sizes = df_dog2017[df_dog2017.rating_numerator.isin(\n",
    "    best_ratings)].breed.value_counts().head().values\n",
    "\n",
    "ax1.pie(sizes, labels=labels, autopct='%1.1f%%',\n",
    "        shadow=True, startangle=0)\n",
    "\n",
    "ax1.axis('equal')  # Equal aspect ratio ensures that pie is drawn as a circle.\n",
    "plt.title('Best retweeted breeds in 2017')\n",
    "plt.show()\n"
   ]
  },
  {
   "cell_type": "markdown",
   "metadata": {},
   "source": [
    "In 2017, the most retweeted breeds are French_bulldog, Pembroke, Chihuahua, black-and-tan_coonhound, Labrador_retriever. "
   ]
  },
  {
   "cell_type": "markdown",
   "metadata": {},
   "source": [
    "##### Relationship between retweet count and favorite count"
   ]
  },
  {
   "cell_type": "code",
   "execution_count": 179,
   "metadata": {},
   "outputs": [
    {
     "data": {
      "text/plain": [
       "Text(0.5, 1.0, 'Relationship betwwen count and favorite count')"
      ]
     },
     "execution_count": 179,
     "metadata": {},
     "output_type": "execute_result"
    },
    {
     "data": {
      "image/png": "[encoded data removed]",
      "text/plain": [
       "<Figure size 1080x720 with 1 Axes>"
      ]
     },
     "metadata": {
      "needs_background": "light"
     },
     "output_type": "display_data"
    }
   ],
   "source": [
    "df2.plot(kind='scatter', figsize=(15, 10),\n",
    "        color='purple', x='retweet_count', y='favorite_count')\n",
    "plt.title('Relationship betwwen count and favorite count')"
   ]
  },
  {
   "cell_type": "markdown",
   "metadata": {},
   "source": [
    "We clearly see that, the value of retweet count globally increase with the value of favorite count. This shows that whenever a user retweets a tweet, he also chooses it as favorite."
   ]
  }
 ],
 "metadata": {
  "extensions": {
   "jupyter_dashboards": {
    "activeView": "report_default",
    "version": 1,
    "views": {
     "grid_default": {
      "cellMargin": 10,
      "defaultCellHeight": 20,
      "maxColumns": 12,
      "name": "grid",
      "type": "grid"
     },
     "report_default": {
      "name": "report",
      "type": "report"
     }
    }
   }
  },
  "kernelspec": {
   "display_name": "Python 3.9.12 ('base')",
   "language": "python",
   "name": "python3"
  },
  "language_info": {
   "codemirror_mode": {
    "name": "ipython",
    "version": 3
   },
   "file_extension": ".py",
   "mimetype": "text/x-python",
   "name": "python",
   "nbconvert_exporter": "python",
   "pygments_lexer": "ipython3",
   "version": "3.9.12"
  },
  "vscode": {
   "interpreter": {
    "hash": "a561ff09736c45ea8c4c6a2f2879bc77e5e64e20329dfa0346a65d0599b7f690"
   }
  }
 },
 "nbformat": 4,
 "nbformat_minor": 2
}
